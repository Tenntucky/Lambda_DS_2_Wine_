{
  "nbformat": 4,
  "nbformat_minor": 0,
  "metadata": {
    "kernelspec": {
      "display_name": "Python 3",
      "language": "python",
      "name": "python3"
    },
    "language_info": {
      "codemirror_mode": {
        "name": "ipython",
        "version": 3
      },
      "file_extension": ".py",
      "mimetype": "text/x-python",
      "name": "python",
      "nbconvert_exporter": "python",
      "pygments_lexer": "ipython3",
      "version": "3.7.3"
    },
    "colab": {
      "name": "Kole_Goldsberry_DS_Build_2.ipynb",
      "provenance": [],
      "collapsed_sections": [],
      "machine_shape": "hm",
      "include_colab_link": true
    }
  },
  "cells": [
    {
      "cell_type": "markdown",
      "metadata": {
        "id": "view-in-github",
        "colab_type": "text"
      },
      "source": [
        "<a href=\"https://colab.research.google.com/github/Tenntucky/Lambda_DS_2_Wine_/blob/master/Kole_Goldsberry_DS_Build_2.ipynb\" target=\"_parent\"><img src=\"https://colab.research.google.com/assets/colab-badge.svg\" alt=\"Open In Colab\"/></a>"
      ]
    },
    {
      "cell_type": "markdown",
      "metadata": {
        "colab_type": "text",
        "id": "nCc3XZEyG3XV"
      },
      "source": [
        "Lambda School Data Science\n",
        "\n",
        "*Unit 2, Sprint 3, Module 3*\n",
        "\n",
        "---\n",
        "\n",
        "\n",
        "# Model Interpretation 1\n",
        "\n",
        "You will use your portfolio project dataset for all assignments this sprint.\n",
        "\n",
        "## Assignment\n",
        "\n",
        "Complete these tasks for your project, and document your work.\n",
        "\n",
        "- [ ] Continue to iterate on your project: data cleaning, exploration, feature engineering, modeling.\n",
        "- [ ] Make at least 1 partial dependence plot to explain your model.\n",
        "- [ ] Share at least 1 visualization on Slack.\n",
        "\n",
        "If you have not yet completed an initial model yet for your portfolio project, you can do today's assignment using your Tanzania Waterpumps model. An example solution will be provided.\n",
        "\n",
        "**Multi-class classification** will result in multiple Partial Dependence Plots (one for each class).\n",
        "\n",
        "## Stretch Goals\n",
        "- [ ] Make multiple PDPs with 1 feature in isolation.\n",
        "- [ ] Make multiple PDPs with 2 features in interaction. \n",
        "- [ ] Use Plotly to make a 3D PDP.\n",
        "- [ ] Make PDPs with categorical feature(s). Use Ordinal Encoder, outside of a pipeline, to encode your data first. If there is a natural ordering, then take the time to encode it that way, instead of random integers. Then use the encoded data with pdpbox. Get readable category names on your plot, instead of integer category codes.\n",
        "\n",
        "## Links\n",
        "- [Christoph Molnar: Interpretable Machine Learning — Partial Dependence Plots](https://christophm.github.io/interpretable-ml-book/pdp.html) + [animated explanation](https://twitter.com/ChristophMolnar/status/1066398522608635904)\n",
        "- [Kaggle / Dan Becker: Machine Learning Explainability — Partial Dependence Plots](https://www.kaggle.com/dansbecker/partial-plots)\n",
        "- [Plotly: 3D PDP example](https://plot.ly/scikit-learn/plot-partial-dependence/#partial-dependence-of-house-value-on-median-age-and-average-occupancy)"
      ]
    },
    {
      "cell_type": "code",
      "metadata": {
        "id": "8_A-L8ya13np",
        "colab_type": "code",
        "outputId": "b5fc19a7-0782-4d3d-8584-42b304ef14d9",
        "colab": {
          "base_uri": "https://localhost:8080/",
          "height": 34
        }
      },
      "source": [
        "import pandas as pd\n",
        "# !pip install category_encoders==2.*\n",
        "# !pip install eli5\n",
        "\n",
        "df = pd.read_csv('winemag-data-130k-v2.csv')\n",
        "df.shape"
      ],
      "execution_count": 2,
      "outputs": [
        {
          "output_type": "execute_result",
          "data": {
            "text/plain": [
              "(129971, 14)"
            ]
          },
          "metadata": {
            "tags": []
          },
          "execution_count": 2
        }
      ]
    },
    {
      "cell_type": "code",
      "metadata": {
        "id": "4HZu4mWK13n3",
        "colab_type": "code",
        "outputId": "7d7a6ff4-6f80-4a8b-9028-750dc65211ae",
        "colab": {
          "base_uri": "https://localhost:8080/",
          "height": 298
        }
      },
      "source": [
        "df.head(2)"
      ],
      "execution_count": 3,
      "outputs": [
        {
          "output_type": "execute_result",
          "data": {
            "text/html": [
              "<div>\n",
              "<style scoped>\n",
              "    .dataframe tbody tr th:only-of-type {\n",
              "        vertical-align: middle;\n",
              "    }\n",
              "\n",
              "    .dataframe tbody tr th {\n",
              "        vertical-align: top;\n",
              "    }\n",
              "\n",
              "    .dataframe thead th {\n",
              "        text-align: right;\n",
              "    }\n",
              "</style>\n",
              "<table border=\"1\" class=\"dataframe\">\n",
              "  <thead>\n",
              "    <tr style=\"text-align: right;\">\n",
              "      <th></th>\n",
              "      <th>Unnamed: 0</th>\n",
              "      <th>country</th>\n",
              "      <th>description</th>\n",
              "      <th>designation</th>\n",
              "      <th>points</th>\n",
              "      <th>price</th>\n",
              "      <th>province</th>\n",
              "      <th>region_1</th>\n",
              "      <th>region_2</th>\n",
              "      <th>taster_name</th>\n",
              "      <th>taster_twitter_handle</th>\n",
              "      <th>title</th>\n",
              "      <th>variety</th>\n",
              "      <th>winery</th>\n",
              "    </tr>\n",
              "  </thead>\n",
              "  <tbody>\n",
              "    <tr>\n",
              "      <th>0</th>\n",
              "      <td>0</td>\n",
              "      <td>Italy</td>\n",
              "      <td>Aromas include tropical fruit, broom, brimston...</td>\n",
              "      <td>Vulkà Bianco</td>\n",
              "      <td>87</td>\n",
              "      <td>NaN</td>\n",
              "      <td>Sicily &amp; Sardinia</td>\n",
              "      <td>Etna</td>\n",
              "      <td>NaN</td>\n",
              "      <td>Kerin O’Keefe</td>\n",
              "      <td>@kerinokeefe</td>\n",
              "      <td>Nicosia 2013 Vulkà Bianco  (Etna)</td>\n",
              "      <td>White Blend</td>\n",
              "      <td>Nicosia</td>\n",
              "    </tr>\n",
              "    <tr>\n",
              "      <th>1</th>\n",
              "      <td>1</td>\n",
              "      <td>Portugal</td>\n",
              "      <td>This is ripe and fruity, a wine that is smooth...</td>\n",
              "      <td>Avidagos</td>\n",
              "      <td>87</td>\n",
              "      <td>15.0</td>\n",
              "      <td>Douro</td>\n",
              "      <td>NaN</td>\n",
              "      <td>NaN</td>\n",
              "      <td>Roger Voss</td>\n",
              "      <td>@vossroger</td>\n",
              "      <td>Quinta dos Avidagos 2011 Avidagos Red (Douro)</td>\n",
              "      <td>Portuguese Red</td>\n",
              "      <td>Quinta dos Avidagos</td>\n",
              "    </tr>\n",
              "  </tbody>\n",
              "</table>\n",
              "</div>"
            ],
            "text/plain": [
              "   Unnamed: 0   country  ...         variety               winery\n",
              "0           0     Italy  ...     White Blend              Nicosia\n",
              "1           1  Portugal  ...  Portuguese Red  Quinta dos Avidagos\n",
              "\n",
              "[2 rows x 14 columns]"
            ]
          },
          "metadata": {
            "tags": []
          },
          "execution_count": 3
        }
      ]
    },
    {
      "cell_type": "code",
      "metadata": {
        "id": "kkkeKDLR6S91",
        "colab_type": "code",
        "outputId": "66bd025b-8a05-4c82-c5a5-b4f321e0c5db",
        "colab": {
          "base_uri": "https://localhost:8080/",
          "height": 221
        }
      },
      "source": [
        "df['variety'].value_counts()"
      ],
      "execution_count": 4,
      "outputs": [
        {
          "output_type": "execute_result",
          "data": {
            "text/plain": [
              "Pinot Noir                  13272\n",
              "Chardonnay                  11753\n",
              "Cabernet Sauvignon           9472\n",
              "Red Blend                    8946\n",
              "Bordeaux-style Red Blend     6915\n",
              "                            ...  \n",
              "Žilavka                         1\n",
              "Petit Meslier                   1\n",
              "Meseguera                       1\n",
              "Merlot-Grenache                 1\n",
              "Kotsifali                       1\n",
              "Name: variety, Length: 707, dtype: int64"
            ]
          },
          "metadata": {
            "tags": []
          },
          "execution_count": 4
        }
      ]
    },
    {
      "cell_type": "markdown",
      "metadata": {
        "id": "FPQd52FM9qCb",
        "colab_type": "text"
      },
      "source": [
        "These features are being removed because they have no enfluence at predicting the wines. Unless one twitter handle is always talking about Pinot Noir for example. Either way that is not how I want my model to predict the variety."
      ]
    },
    {
      "cell_type": "code",
      "metadata": {
        "id": "a8yKJIqpXzph",
        "colab_type": "code",
        "colab": {}
      },
      "source": [
        "df['description'] = df['description'].str.lower()"
      ],
      "execution_count": 0,
      "outputs": []
    },
    {
      "cell_type": "code",
      "metadata": {
        "id": "ChHWvVW2S__a",
        "colab_type": "code",
        "outputId": "05ffda5f-d813-4c67-d81a-99db6dc934fe",
        "colab": {
          "base_uri": "https://localhost:8080/",
          "height": 204
        }
      },
      "source": [
        "import re\n",
        "\n",
        "def wrangle(X):\n",
        "  X = X.copy()\n",
        "\n",
        "  X = X.drop(columns=['Unnamed: 0','price','region_1','region_2','taster_name',\n",
        "                      'taster_twitter_handle','title','winery'])\n",
        "\n",
        "  remove_words = {'a','about','above','across','after','against','along','amidst',\n",
        "               'among','amongst','and','around','as','at','barring','before',\n",
        "               'behind','below','beneath','beside','besides','between','beyond',\n",
        "               'bottling','by','circa','comes','concerning','despite','down',\n",
        "               'during','in','inside','into','is','except','excluding','for',\n",
        "               'following','from','like','much','near','next','past','per',\n",
        "               'round','since','of','off','on','onto','opposite','out','outside',\n",
        "               'over','plus','rather','regular','than','this','through',\n",
        "               'throughout','till','times','to','toward','towards','under',\n",
        "               'underneath','unlike','until','unto','up','upon','via','while',\n",
        "               'with','within','without','the','2012','white blend',\n",
        "               'portuguese red', 'pinot gris', 'riesling','pinot noir','tempranillo-merlot','frappato','gewürztraminer',\n",
        "               'cabernet sauvignon','nerello mascalese','chardonnay','malbec',\n",
        "               'tempranillo blend','meritage','red blend','merlot',\n",
        "               \"nero d'avola\", 'chenin blanc','gamay','sauvignon blanc',\n",
        "               'viognier-chardonnay', 'primitivo', 'catarratto', 'inzolia',\n",
        "               'petit verdot', 'monica', 'bordeaux-style white blend', 'grillo',\n",
        "               'sangiovese', 'cabernet franc', 'champagne blend',\n",
        "               'bordeaux-style red blend', 'aglianico', 'petite sirah',\n",
        "               'touriga nacional', 'carmenère', 'albariño', 'petit manseng',\n",
        "               'rosé', 'zinfandel', 'vernaccia', 'rosato', 'grüner veltliner',\n",
        "               'viognier', 'vermentino', 'grenache blanc', 'syrah', 'nebbiolo',\n",
        "               'shiraz-cabernet sauvignon', 'pinot blanc', 'alsace white blend',\n",
        "               'barbera', 'rhône-style red blend', 'portuguese white', 'graciano',\n",
        "               'tannat-cabernet', 'sauvignon', 'sangiovese grosso', 'torrontés',\n",
        "               'prugnolo gentile', 'g-s-m', 'verdejo', 'fumé blanc', 'furmint',\n",
        "               'pinot bianco', 'bonarda', 'shiraz', 'montepulciano', 'moscato',\n",
        "               'grenache', 'ugni blanc-colombard', 'syrah-viognier',\n",
        "               'blaufränkisch', 'friulano', 'assyrtico', 'carignan-grenache',\n",
        "               'sagrantino', 'savagnin', 'cabernet sauvignon-syrah', 'prosecco',\n",
        "               'vignoles', 'sparkling blend', 'muscat', 'muscadelle',\n",
        "               'shiraz-viognier', 'garganega', 'pinot grigio', 'tempranillo',\n",
        "               'zierfandler', 'cortese', 'mencía', 'zweigelt', 'melon',\n",
        "               'rhône-style white blend', 'vidal', 'cannonau', 'verdelho',\n",
        "               'marsanne', 'scheurebe', 'kerner', 'syrah-grenache', 'dolcetto',\n",
        "               'vilana', 'glera', 'viura', 'garnacha tintorera', 'pinot nero',\n",
        "               'roter veltliner', 'pinotage', 'sémillon', 'pinot noir-gamay',\n",
        "               'antão vaz', 'cabernet sauvignon-carmenère', 'verdejo-viura',\n",
        "               'verduzzo', 'verdicchio', 'silvaner', 'colombard', 'carricante',\n",
        "               'sylvaner', 'fiano', 'sousão', 'roussanne', 'avesso', 'cinsault',\n",
        "               'chinuri', 'tinta miúda', 'muscat blanc à petits grains',\n",
        "               'portuguese sparkling', 'monastrell', 'xarel-lo', 'greco',\n",
        "               'trebbiano', 'corvina, rondinella, molinara', 'port',\n",
        "               'chenin blanc-chardonnay', 'insolia', 'merlot-malbec',\n",
        "               'ribolla gialla', 'cabernet sauvignon-merlot', 'duras',\n",
        "               'weissburgunder', 'roditis', 'traminer', 'papaskarasi',\n",
        "               'tannat-syrah', 'marsanne-roussanne', 'charbono', 'prié blanc',\n",
        "               'sherry', 'provence red blend', 'tannat', 'zibibbo', 'falanghina',\n",
        "               'garnacha', 'negroamaro', 'mourvèdre', 'syrah-cabernet',\n",
        "               'müller-thurgau', 'pinot meunier', 'cabernet sauvignon-sangiovese',\n",
        "               'austrian red blend', 'teroldego', 'pansa blanca',\n",
        "               'muskat ottonel', 'sauvignon blanc-semillon', 'claret',\n",
        "               'semillon-sauvignon blanc', 'bical', 'moscatel', 'rosado',\n",
        "               'viura-chardonnay', 'baga', 'malvasia bianca',\n",
        "               'gelber muskateller', 'malbec-merlot', 'monastrell-syrah',\n",
        "               'malbec-tannat', 'malbec-cabernet franc', 'turbiana', 'refosco',\n",
        "               'alvarinho', 'manzoni', 'aragonês', 'agiorgitiko', 'malagousia',\n",
        "               'assyrtiko', 'ruché', 'welschriesling', 'tinta de toro',\n",
        "               'cabernet moravia', 'rieslaner', 'traminette', 'chambourcin',\n",
        "               'nero di troia', 'lambrusco di sorbara', 'cesanese',\n",
        "               'feteasca neagra', 'lagrein', 'tinta fina', 'st. laurent',\n",
        "               'marsanne-viognier', 'cabernet sauvignon-shiraz',\n",
        "               'syrah-cabernet sauvignon', 'gewürztraminer-riesling',\n",
        "               'pugnitello', 'cerceal', 'touriga nacional blend',\n",
        "               'austrian white blend', 'tocai', 'tinta roriz',\n",
        "               'chardonnay-viognier', 'fernão pires',\n",
        "               'cabernet franc-cabernet sauvignon', 'grenache-syrah',\n",
        "               'seyval blanc', 'muscat canelli', 'cabernet merlot',\n",
        "               'tempranillo-cabernet sauvignon', 'arinto', 'aragonez',\n",
        "               'merlot-cabernet franc', 'syrah-petite sirah', 'cabernet blend',\n",
        "               'maturana', 'pecorino', 'rotgipfler', 'cabernet franc-carmenère',\n",
        "               'magliocco', 'gamay noir', 'sauvignon gris', 'spätburgunder',\n",
        "               'picpoul', 'vidal blanc', 'white port', 'arneis', 'malvasia',\n",
        "               'plavac mali', 'lemberger', 'saperavi', 'altesse', 'blanc du bois',\n",
        "               'provence white blend', 'nosiola', 'dornfelder',\n",
        "               'roussanne-viognier', 'godello', 'mondeuse', 'perricone',\n",
        "               'pedro ximénez', 'auxerrois', 'syrah-merlot', 'albana', 'muskat',\n",
        "               'lambrusco', 'cabernet sauvignon-malbec', 'tinto fino',\n",
        "               'malbec-cabernet sauvignon', 'moschofilero', 'grechetto',\n",
        "               'encruzado', 'carignano', 'cabernet franc-merlot', 'torbato',\n",
        "               'syrah-petit verdot', 'garnacha blanca', 'pallagrello',\n",
        "               'syrah-mourvèdre', 'aleatico', 'kisi', 'shiraz-grenache',\n",
        "               'palomino', 'grenache-carignan', 'nascetta', 'siria',\n",
        "               'malbec-syrah', 'asprinio', 'feteascǎ regalǎ',\n",
        "               'lambrusco grasparossa', 'marselan', 'tocai friulano', 'schiava',\n",
        "               'alfrocheiro', 'chardonnay-semillon', 'corvina', 'norton',\n",
        "               'alicante bouschet', 'tokaji', 'moscadello',\n",
        "               'cabernet sauvignon-tempranillo', 'carignan', 'cabernet-syrah',\n",
        "               'sauvignon blanc-chardonnay', 'symphony', 'edelzwicker',\n",
        "               'madeira blend', 'black muscat', 'grenache noir', 'durella',\n",
        "               'xinomavro', 'tinto del pais', 'merlot-cabernet sauvignon',\n",
        "               'johannisberg riesling', 'petite verdot', 'passerina', 'valdiguié',\n",
        "               'colombard-sauvignon blanc', 'loureiro', 'posip', 'uva di troia',\n",
        "               'gros and petit manseng', 'jacquère', 'kalecik karasi',\n",
        "               'mourvèdre-syrah', 'negrette', 'zierfandler-rotgipfler',\n",
        "               'clairette', 'raboso', 'mauzac', 'pinot auxerrois',\n",
        "               'chenin blanc-sauvignon blanc', 'marzemino', 'tinta barroca',\n",
        "               'chardonnay-sauvignon blanc', 'castelão', 'trebbiano spoletino',\n",
        "               'teran', 'trepat', 'freisa', 'neuburger', 'sämling', 'chasselas',\n",
        "               'hárslevelü', 'trincadeira', 'merlot-tannat', 'rkatsiteli',\n",
        "               'melnik', 'trousseau gris', 'grenache blend', 'gros manseng',\n",
        "               'portuguese rosé', 'brachetto', 'mantonico', 'muskateller',\n",
        "               'aligoté', 'sangiovese cabernet',\n",
        "               'touriga nacional-cabernet sauvignon', 'muscat blanc', 'argaman',\n",
        "               'viognier-roussanne', 'pallagrello bianco', 'bobal',\n",
        "               'malvasia istriana', 'cabernet sauvignon-cabernet franc',\n",
        "               'baco noir', 'veltliner', 'morillon', 'touriga franca', 'picolit',\n",
        "               'prieto picudo', 'gaglioppo', 'tokay', 'sacy', 'piedirosso',\n",
        "               'mansois', 'chardonnay-sauvignon', 'tempranillo-garnacha',\n",
        "               'carmenère-cabernet sauvignon', 'chenin blanc-viognier',\n",
        "               'susumaniello', 'vitovska', 'orange muscat', 'grauburgunder',\n",
        "               'carignane', 'moscatel roxo', 'tannat-merlot', 'nerello cappuccio',\n",
        "               'counoise', 'macabeo', 'mazuelo', 'tinta del pais', 'vranec',\n",
        "               'mavrud', \"cesanese d'affile\", 'moscato giallo', 'debit',\n",
        "               'cabernet', 'verduzzo friulano ', 'treixadura', \"loin de l'oeil\",\n",
        "               'coda di volpe', 'grenache-mourvèdre', 'viura-verdejo',\n",
        "               'bombino bianco', 'pinot-chardonnay', 'syrah-tempranillo',\n",
        "               'merlot-cabernet', \"muscat d'alexandrie\", 'jaen', 'tinta del toro',\n",
        "               'timorasso', 'pigato', 'sangiovese-cabernet sauvignon',\n",
        "               'shiraz-cabernet', 'viognier-gewürztraminer',\n",
        "               'sauvignon blanc-chenin blanc', 'malbec-petit verdot',\n",
        "               'colombard-ugni blanc', 'grignolino', 'garnacha-syrah', 'rufete',\n",
        "               'tempranillo-shiraz', 'mtsvane', 'marawi',\n",
        "               'chardonnay-pinot blanc', 'mataro', 'tinta cao',\n",
        "               'blauer portugieser', 'ugni blanc', 'groppello',\n",
        "               'semillon-chardonnay', 'alvarelhão', 'poulsard', 'grenache-shiraz',\n",
        "               'baga-touriga nacional', 'carineña', 'pignoletto', 'muscatel',\n",
        "               'mavrodaphne', 'ciliegiolo', 'viognier-grenache blanc',\n",
        "               'greco bianco', 'cabernet sauvignon-merlot-shiraz', 'sciaccerellu',\n",
        "               'alicante', 'emir', 'rosenmuskateller', 'narince',\n",
        "               'malbec-cabernet', 'touriga', 'grecanico', 'carmenère-syrah',\n",
        "               'madeleine angevine', 'muscat hamburg', 'tempranillo blanco',\n",
        "               'casavecchia', 'white riesling', 'hondarrabi zuri', 'nuragus',\n",
        "               'xynisteri', 'kadarka', 'roussanne-marsanne', 'incrocio manzoni',\n",
        "               'bual', 'okuzgozu', 'rivaner', 'lambrusco salamino',\n",
        "               'sangiovese-syrah', 'tannat-cabernet franc', 'fer servadou',\n",
        "               'mission', 'kekfrankos', 'marquette', 'romorantin',\n",
        "               'verdejo-sauvignon blanc', 'braucol', 'malvasia-viura',\n",
        "               'savatiano', 'cabernet franc-malbec', 'pallagrello nero', 'rebula',\n",
        "               'vespolina', 'shiraz-malbec', 'rebo', 'macabeo-chardonnay',\n",
        "               'tamjanika', 'trousseau', 'bacchus', 'syrah-cabernet franc',\n",
        "               'cariñena-garnacha', 'plyto', 'códega do larinho', 'Çalkarası',\n",
        "               'azal', 'moscatel graúdo', 'viosinho', 'rara neagra',\n",
        "               'malvasia di candia', 'maria gomes', 'malvar', 'airen', 'erbaluce',\n",
        "               'muscat of alexandria', 'abouriou', 'pinot noir-syrah',\n",
        "               'nielluciu', 'malbec-bonarda', 'sauvignon blanc-verdejo',\n",
        "               'garnacha-monastrell', 'vinhão', 'souzao', 'roter traminer',\n",
        "               'moscatel de alejandría', 'rolle', 'tinta francisca',\n",
        "               'malvasia nera', 'portuguiser', 'listán negro', 'muscadine',\n",
        "               'grolleau', 'zlahtina', 'jacquez', 'gouveio', 'canaiolo',\n",
        "               'carignan-syrah', 'bovale', 'cabernet-shiraz', 'syrah-carignan',\n",
        "               'elbling', 'gragnano', 'garnacha blend', 'pinot blanc-chardonnay',\n",
        "               'bastardo', 'chardonnay weissburgunder', 'other', 'robola',\n",
        "               'malagouzia', 'malbec blend', 'merlot-syrah', 'cabernet pfeffer',\n",
        "               'morio muskat', 'rabigato', 'babić', 'roviello', 'yapincak',\n",
        "               'viognier-marsanne', 'mandilaria', 'alvarinho-chardonnay',\n",
        "               'saperavi-merlot', 'garnacha-tempranillo', 'trebbiano di lugana',\n",
        "               'albarossa', 'verdeca', 'cabernet sauvignon grenache',\n",
        "               'tămâioasă românească', 'black monukka', 'tempranillo-syrah',\n",
        "               'uvalino', 'boğazkere', 'cayuga', 'moscato rosa', 'chelois',\n",
        "               'shiraz-tempranillo', 'ansonica', 'durif', 'malbec-tempranillo',\n",
        "               'nasco', 'monastrell-petit verdot', 'sirica', 'apple', 'Feteasca',\n",
        "               'malvasia fina', 'chancellor', 'cabernet franc-lemberger',\n",
        "               'chardonnay-albariño', 'shiraz-mourvèdre', 'trollinger'}\n",
        "\n",
        "  pat = r'\\b(?:{})\\b'.format('|'.join(remove_words))\n",
        "  X['new'] = X['description'].str.replace(pat, '')\n",
        "\n",
        "\n",
        "  return X\n",
        "  \n",
        "df = wrangle(df)\n",
        "df.head()"
      ],
      "execution_count": 6,
      "outputs": [
        {
          "output_type": "execute_result",
          "data": {
            "text/html": [
              "<div>\n",
              "<style scoped>\n",
              "    .dataframe tbody tr th:only-of-type {\n",
              "        vertical-align: middle;\n",
              "    }\n",
              "\n",
              "    .dataframe tbody tr th {\n",
              "        vertical-align: top;\n",
              "    }\n",
              "\n",
              "    .dataframe thead th {\n",
              "        text-align: right;\n",
              "    }\n",
              "</style>\n",
              "<table border=\"1\" class=\"dataframe\">\n",
              "  <thead>\n",
              "    <tr style=\"text-align: right;\">\n",
              "      <th></th>\n",
              "      <th>country</th>\n",
              "      <th>description</th>\n",
              "      <th>designation</th>\n",
              "      <th>points</th>\n",
              "      <th>province</th>\n",
              "      <th>variety</th>\n",
              "      <th>new</th>\n",
              "    </tr>\n",
              "  </thead>\n",
              "  <tbody>\n",
              "    <tr>\n",
              "      <th>0</th>\n",
              "      <td>Italy</td>\n",
              "      <td>aromas include tropical fruit, broom, brimston...</td>\n",
              "      <td>Vulkà Bianco</td>\n",
              "      <td>87</td>\n",
              "      <td>Sicily &amp; Sardinia</td>\n",
              "      <td>White Blend</td>\n",
              "      <td>aromas include tropical fruit, broom, brimston...</td>\n",
              "    </tr>\n",
              "    <tr>\n",
              "      <th>1</th>\n",
              "      <td>Portugal</td>\n",
              "      <td>this is ripe and fruity, a wine that is smooth...</td>\n",
              "      <td>Avidagos</td>\n",
              "      <td>87</td>\n",
              "      <td>Douro</td>\n",
              "      <td>Portuguese Red</td>\n",
              "      <td>ripe  fruity,  wine that  smooth  still stru...</td>\n",
              "    </tr>\n",
              "    <tr>\n",
              "      <th>2</th>\n",
              "      <td>US</td>\n",
              "      <td>tart and snappy, the flavors of lime flesh and...</td>\n",
              "      <td>NaN</td>\n",
              "      <td>87</td>\n",
              "      <td>Oregon</td>\n",
              "      <td>Pinot Gris</td>\n",
              "      <td>tart  snappy,  flavors  lime flesh  rind domin...</td>\n",
              "    </tr>\n",
              "    <tr>\n",
              "      <th>3</th>\n",
              "      <td>US</td>\n",
              "      <td>pineapple rind, lemon pith and orange blossom ...</td>\n",
              "      <td>Reserve Late Harvest</td>\n",
              "      <td>87</td>\n",
              "      <td>Michigan</td>\n",
              "      <td>Riesling</td>\n",
              "      <td>pineapple rind, lemon pith  orange blossom sta...</td>\n",
              "    </tr>\n",
              "    <tr>\n",
              "      <th>4</th>\n",
              "      <td>US</td>\n",
              "      <td>much like the regular bottling from 2012, this...</td>\n",
              "      <td>Vintner's Reserve Wild Child Block</td>\n",
              "      <td>87</td>\n",
              "      <td>Oregon</td>\n",
              "      <td>Pinot Noir</td>\n",
              "      <td>,      rough  tannic,  rustic, earthy, h...</td>\n",
              "    </tr>\n",
              "  </tbody>\n",
              "</table>\n",
              "</div>"
            ],
            "text/plain": [
              "    country  ...                                                new\n",
              "0     Italy  ...  aromas include tropical fruit, broom, brimston...\n",
              "1  Portugal  ...    ripe  fruity,  wine that  smooth  still stru...\n",
              "2        US  ...  tart  snappy,  flavors  lime flesh  rind domin...\n",
              "3        US  ...  pineapple rind, lemon pith  orange blossom sta...\n",
              "4        US  ...        ,      rough  tannic,  rustic, earthy, h...\n",
              "\n",
              "[5 rows x 7 columns]"
            ]
          },
          "metadata": {
            "tags": []
          },
          "execution_count": 6
        }
      ]
    },
    {
      "cell_type": "code",
      "metadata": {
        "id": "W8fo6elVMVJu",
        "colab_type": "code",
        "outputId": "fed2e700-dd61-4d02-f119-1e333ee1a4bd",
        "colab": {
          "base_uri": "https://localhost:8080/",
          "height": 153
        }
      },
      "source": [
        "df.isna().sum()"
      ],
      "execution_count": 7,
      "outputs": [
        {
          "output_type": "execute_result",
          "data": {
            "text/plain": [
              "country           63\n",
              "description        0\n",
              "designation    37465\n",
              "points             0\n",
              "province          63\n",
              "variety            1\n",
              "new                0\n",
              "dtype: int64"
            ]
          },
          "metadata": {
            "tags": []
          },
          "execution_count": 7
        }
      ]
    },
    {
      "cell_type": "code",
      "metadata": {
        "id": "DDgng1ERMjnF",
        "colab_type": "code",
        "colab": {}
      },
      "source": [
        "df = df.dropna()"
      ],
      "execution_count": 0,
      "outputs": []
    },
    {
      "cell_type": "code",
      "metadata": {
        "id": "TIimg0O9OaYz",
        "colab_type": "code",
        "outputId": "320080bb-9c81-4c4b-f849-2b78d6333078",
        "colab": {
          "base_uri": "https://localhost:8080/",
          "height": 34
        }
      },
      "source": [
        "df.shape"
      ],
      "execution_count": 10,
      "outputs": [
        {
          "output_type": "execute_result",
          "data": {
            "text/plain": [
              "(92454, 7)"
            ]
          },
          "metadata": {
            "tags": []
          },
          "execution_count": 10
        }
      ]
    },
    {
      "cell_type": "code",
      "metadata": {
        "id": "5JLmWTr84Yzw",
        "colab_type": "code",
        "outputId": "b483b086-87bc-42e1-bc22-dd69566f959b",
        "colab": {
          "base_uri": "https://localhost:8080/",
          "height": 615
        }
      },
      "source": [
        "def wrangle2(X):\n",
        "  X = X.copy()\n",
        "\n",
        "  X = X.drop(columns=['description'])\n",
        "\n",
        "  # Sight\n",
        "  clear = X['new'].str.contains('clear')\n",
        "  slightly_cloudy = X['new'].str.contains('slighty cloudy')\n",
        "  cloudy = X['new'].str.contains('cloudy')\n",
        "  X.loc[clear, 'clarity sight'] = 'clear'\n",
        "  X.loc[slightly_cloudy, 'clarity sight'] = 'slightly cloudy'\n",
        "  X.loc[cloudy, 'clarity sight'] = 'cloudy'\n",
        "  \n",
        "  dull = X['new'].str.contains('dull')\n",
        "  bright = X['new'].str.contains('bright')\n",
        "  brilliant = X['new'].str.contains('brilliant')\n",
        "  X.loc[dull, 'brightness sight'] = 'dull'\n",
        "  X.loc[bright, 'brightness sight'] = 'bright'\n",
        "  X.loc[brilliant, 'brightness sight'] = 'brilliant'\n",
        "  \n",
        "  pale = X['new'].str.contains('pale')\n",
        "  medium = X['new'].str.contains('medium')\n",
        "  deep = X['new'].str.contains('deep')\n",
        "  translucent = X['new'].str.contains('translucent')\n",
        "  opaque = X['new'].str.contains('opaque')\n",
        "  X.loc[pale, 'concentration sight'] = 'pale'\n",
        "  X.loc[medium, 'concentration sight'] = 'medium'\n",
        "  X.loc[deep, 'concentration sight'] = 'deep'\n",
        "  X.loc[translucent, 'concentration sight'] = 'translucent'\n",
        "  X.loc[opaque, 'concentration sight'] = 'opaque'\n",
        "\n",
        "  gas_ev_yes = X['new'].str.contains('gas')\n",
        "  X.loc[gas_ev_yes, 'concentration sight'] = 'yes'\n",
        "\n",
        "  sediment = X['new'].str.contains('sediment')\n",
        "  X.loc[sediment, 'sediment sight'] = 'yes'\n",
        "\n",
        "  straw = X['new'].str.contains('straw')\n",
        "  yellow = X['new'].str.contains('yellow')\n",
        "  gold = X['new'].str.contains('gold')\n",
        "  purple = X['new'].str.contains('purple')\n",
        "  ruby = X['new'].str.contains('ruby')\n",
        "  garnet = X['new'].str.contains('garnet')\n",
        "  X.loc[straw, 'colour sight'] = 'straw'\n",
        "  X.loc[yellow, 'colour sight'] = 'yellow'\n",
        "  X.loc[gold, 'colour sight'] = 'gold'\n",
        "  X.loc[purple, 'colour sight'] = 'purple'\n",
        "  X.loc[ruby, 'colour sight'] = 'ruby'\n",
        "  X.loc[garnet, 'colour sight'] = 'garnet'\n",
        "\n",
        "  silver = X['new'].str.contains('silver')\n",
        "  green = X['new'].str.contains('green')\n",
        "  orange = X['new'].str.contains('orange')\n",
        "  blue = X['new'].str.contains('blue')\n",
        "  brown = X['new'].str.contains('brown')\n",
        "  X.loc[silver, 'hue sight'] = 'silver'\n",
        "  X.loc[green, 'hue sight'] = 'green'\n",
        "  X.loc[orange, 'hue sight'] = 'orange'\n",
        "  X.loc[blue, 'hue sight'] = 'blue'\n",
        "  X.loc[ruby, 'hue sight'] = 'ruby'\n",
        "  X.loc[garnet, 'hue sight'] = 'garnet'\n",
        "  X.loc[brown, 'hue sight'] = 'brown'\n",
        "\n",
        "  # X['rim variation sight']\n",
        "\n",
        "  stain = X['new'].str.contains('stain')\n",
        "  X.loc[stain, 'extract sight'] = 'yes'\n",
        "  # X['viscosity sight']\n",
        "\n",
        "  # Nose\n",
        "  tca = X['new'].str.contains('tca')\n",
        "  h2s = X['new'].str.contains('h2s')\n",
        "  va = X['new'].str.contains('va')\n",
        "  ea = X['new'].str.contains('ea')\n",
        "  brett = X['new'].str.contains('brett')\n",
        "  oxidation = X['new'].str.contains('oxidation')\n",
        "  X.loc[tca, 'clean nose'] = 'tca'\n",
        "  X.loc[h2s, 'clean nose'] = 'h2s'\n",
        "  X.loc[va, 'clean nose'] = 'va'\n",
        "  X.loc[ea, 'clean nose'] = 'ea'\n",
        "  X.loc[brett, 'clean nose'] = 'brett'\n",
        "  X.loc[oxidation, 'clean nose'] = 'oxidation'\n",
        "  \n",
        "  delicate = X['new'].str.contains('delicate')\n",
        "  powerful = X['new'].str.contains('powerful')\n",
        "  X.loc[delicate, 'intensity nose'] = 'delicate'\n",
        "  X.loc[powerful, 'intensity nose'] = 'powerful'\n",
        "\n",
        "  youthful = X['new'].str.contains('youthful')\n",
        "  vinous = X['new'].str.contains('vinous')\n",
        "  X.loc[delicate, 'age assessment nose'] = 'youthful'\n",
        "  X.loc[powerful, 'age assessment nose'] = 'vinous'\n",
        "\n",
        "  apple = X['new'].str.contains('apple')\n",
        "  malic = X['new'].str.contains('malic')\n",
        "  citric = X['new'].str.contains('citric')\n",
        "  stone = X['new'].str.contains('stone')\n",
        "  tropical = X['new'].str.contains('tropical')\n",
        "  melon = X['new'].str.contains('melon')\n",
        "  berry = X['new'].str.contains('berry')\n",
        "  red = X['new'].str.contains('red')\n",
        "  black = X['new'].str.contains('black')\n",
        "  X.loc[apple, 'fruit nose'] = 'apple'\n",
        "  X.loc[malic, 'fruit nose'] = 'malic'\n",
        "  X.loc[citric, 'fruit nose'] = 'citric'\n",
        "  X.loc[stone, 'fruit nose'] = 'stone'\n",
        "  X.loc[tropical, 'fruit nose'] = 'tropical'\n",
        "  X.loc[melon, 'fruit nose'] = 'melon'\n",
        "  X.loc[berry, 'fruit nose'] = 'berry'\n",
        "  X.loc[red, 'fruit nose'] = 'red'\n",
        "  X.loc[black, 'fruit nose'] = 'black'\n",
        "  X.loc[blue, 'fruit nose'] = 'blue'\n",
        "\n",
        "  baked = X['new'].str.contains('baked')\n",
        "  stewed = X['new'].str.contains('stewed')\n",
        "  dried = X['new'].str.contains('dried')\n",
        "  peel = X['new'].str.contains('peel')\n",
        "  skin = X['new'].str.contains('skin')\n",
        "  tart = X['new'].str.contains('tart')\n",
        "  ripe = X['new'].str.contains('ripe')\n",
        "  jammy = X['new'].str.contains('jammy')\n",
        "  X.loc[baked, 'fruit character nose'] = 'baked'\n",
        "  X.loc[stewed, 'fruit character nose'] = 'stewed'\n",
        "  X.loc[dried, 'fruit character nose'] = 'dried'\n",
        "  X.loc[peel, 'fruit character nose'] = 'peel'\n",
        "  X.loc[skin, 'fruit character nose'] = 'skin'\n",
        "  X.loc[tart, 'fruit character nose'] = 'tart'\n",
        "  X.loc[ripe, 'fruit character nose'] = 'ripe'\n",
        "  X.loc[jammy, 'fruit character nose'] = 'jammy'\n",
        "\n",
        "  floral = X['new'].str.contains('floral')\n",
        "  vegetable = X['new'].str.contains('vegetable')\n",
        "  herbal = X['new'].str.contains('herbal')\n",
        "  spice = X['new'].str.contains('spice')\n",
        "  vinification = X['new'].str.contains('vinification')\n",
        "  mlf = X['new'].str.contains('mlf')\n",
        "  cm = X['new'].str.contains('cm')\n",
        "  chocolate = X['new'].str.contains('chocolate')\n",
        "  coffee = X['new'].str.contains('coffee')\n",
        "  liquorice = X['new'].str.contains('liquorice')\n",
        "  olive = X['new'].str.contains('olive')\n",
        "  X.loc[floral, 'non-fruit nose'] = 'floral'\n",
        "  X.loc[vegetable, 'non-fruit nose'] = 'vegetable'\n",
        "  X.loc[herbal, 'non-fruit nose'] = 'herbal'\n",
        "  X.loc[spice, 'non-fruit nose'] = 'spice'\n",
        "  X.loc[vinification, 'non-fruit nose'] = 'vinification'\n",
        "  X.loc[mlf, 'non-fruit nose'] = 'mlf'\n",
        "  X.loc[cm, 'non-fruit nose'] = 'cm'\n",
        "  X.loc[chocolate, 'non-fruit nose'] = 'chocolate'\n",
        "  X.loc[coffee, 'non-fruit nose'] = 'coffee'\n",
        "  X.loc[liquorice, 'non-fruit nose'] = 'liquorice'\n",
        "  X.loc[olive,'non-fruit nose'] = 'olive'\n",
        "\n",
        "  forest = X['new'].str.contains('forest')\n",
        "  compost = X['new'].str.contains('compost')\n",
        "  mushroom = X['new'].str.contains('mushroom')\n",
        "  soil = X['new'].str.contains('soil')\n",
        "  farm = X['new'].str.contains('farm')\n",
        "  X.loc[forest, 'earth organic nose'] = 'forest'\n",
        "  X.loc[compost, 'earth organic nose'] = 'compost'\n",
        "  X.loc[mushroom, 'earth organic nose'] = 'mushroom'\n",
        "  X.loc[soil, 'earth organic nose'] = 'soil'\n",
        "  X.loc[farm, 'earth organic nose'] = 'farm'\n",
        "\n",
        "  mineral = X['new'].str.contains('mineral')\n",
        "  limestone = X['new'].str.contains('limestone')\n",
        "  chalk = X['new'].str.contains('chalk')\n",
        "  slate = X['new'].str.contains('slate')\n",
        "  petrol = X['new'].str.contains('petrol')\n",
        "  flint = X['new'].str.contains('flint')\n",
        "  volcanic = X['new'].str.contains('volcanic')\n",
        "  X.loc[mineral, 'earth inorganic nose'] = 'mineral'\n",
        "  X.loc[limestone, 'earth inorganic nose'] = 'limestone'\n",
        "  X.loc[chalk, 'earth inorganic nose'] = 'chalk'\n",
        "  X.loc[slate, 'earth inorganic nose'] = 'slate'\n",
        "  X.loc[petrol, 'earth inorganic nose'] = 'petrol'\n",
        "  X.loc[flint, 'earth inorganic nose'] = 'flint'\n",
        "  X.loc[volcanic, 'earth inorganic nose'] = 'volcanic'\n",
        "\n",
        "  meaty = X['new'].str.contains('meaty')\n",
        "  leather = X['new'].str.contains('leather')\n",
        "  truffle = X['new'].str.contains('truffle')\n",
        "  dusty = X['new'].str.contains('dusty')\n",
        "  X.loc[meaty, 'tertiary nose'] = 'meaty'\n",
        "  X.loc[leather, 'tertiary nose'] = 'leather'\n",
        "  X.loc[truffle, 'tertiary nose'] = 'truffle'\n",
        "  X.loc[dusty, 'tertiary nose'] = 'dusty'\n",
        "\n",
        "  french = X['new'].str.contains('french')\n",
        "  american = X['new'].str.contains('american')\n",
        "  X.loc[french, 'wood nose'] = 'french'\n",
        "  X.loc[american, 'wood nose'] = 'american'\n",
        "\n",
        "  # Palate - Structure\n",
        "  dry = X['new'].str.contains('dry')\n",
        "  sweet = X['new'].str.contains('sweet')\n",
        "  X.loc[dry, 'sweetness palate structure'] = 'dry'\n",
        "  X.loc[sweet, 'sweetness palate structure'] = 'sweet'\n",
        "\n",
        "  '''\n",
        "  X['tannin palate structure']\n",
        "  X['acid palate structure']\n",
        "  X['alcohol palate structure']\n",
        "  X['body palate structure']\n",
        "\n",
        "  # Palate - Flavour\n",
        "  X['fruit palate flavour']\n",
        "  X['fruit character palate flavour']\n",
        "  X['non-fruit palate flavour']\n",
        "  X['organic earth palate flavour']\n",
        "  X['inorganic earth palate flavour']\n",
        "  X['wood palate flavour']\n",
        "  X['balance palate flavour']\n",
        "  X['finish palate flavour']\n",
        "  X['complexity palate flavour']\n",
        "\n",
        "  # Initial Conclusion\n",
        "  X['climate initial conclusion']\n",
        "  X['age range initial conclusion']\n",
        "\n",
        "  # Final Conclusion\n",
        "  X['quality final conclusion'] = X['designation']\n",
        "  '''\n",
        "  return X\n",
        "\n",
        "df = wrangle2(df)\n",
        "df.head()"
      ],
      "execution_count": 11,
      "outputs": [
        {
          "output_type": "execute_result",
          "data": {
            "text/html": [
              "<div>\n",
              "<style scoped>\n",
              "    .dataframe tbody tr th:only-of-type {\n",
              "        vertical-align: middle;\n",
              "    }\n",
              "\n",
              "    .dataframe tbody tr th {\n",
              "        vertical-align: top;\n",
              "    }\n",
              "\n",
              "    .dataframe thead th {\n",
              "        text-align: right;\n",
              "    }\n",
              "</style>\n",
              "<table border=\"1\" class=\"dataframe\">\n",
              "  <thead>\n",
              "    <tr style=\"text-align: right;\">\n",
              "      <th></th>\n",
              "      <th>country</th>\n",
              "      <th>designation</th>\n",
              "      <th>points</th>\n",
              "      <th>province</th>\n",
              "      <th>variety</th>\n",
              "      <th>new</th>\n",
              "      <th>clarity sight</th>\n",
              "      <th>brightness sight</th>\n",
              "      <th>concentration sight</th>\n",
              "      <th>sediment sight</th>\n",
              "      <th>colour sight</th>\n",
              "      <th>hue sight</th>\n",
              "      <th>extract sight</th>\n",
              "      <th>clean nose</th>\n",
              "      <th>intensity nose</th>\n",
              "      <th>age assessment nose</th>\n",
              "      <th>fruit nose</th>\n",
              "      <th>fruit character nose</th>\n",
              "      <th>non-fruit nose</th>\n",
              "      <th>earth organic nose</th>\n",
              "      <th>earth inorganic nose</th>\n",
              "      <th>tertiary nose</th>\n",
              "      <th>wood nose</th>\n",
              "      <th>sweetness palate structure</th>\n",
              "    </tr>\n",
              "  </thead>\n",
              "  <tbody>\n",
              "    <tr>\n",
              "      <th>0</th>\n",
              "      <td>Italy</td>\n",
              "      <td>Vulkà Bianco</td>\n",
              "      <td>87</td>\n",
              "      <td>Sicily &amp; Sardinia</td>\n",
              "      <td>White Blend</td>\n",
              "      <td>aromas include tropical fruit, broom, brimston...</td>\n",
              "      <td>NaN</td>\n",
              "      <td>NaN</td>\n",
              "      <td>NaN</td>\n",
              "      <td>NaN</td>\n",
              "      <td>NaN</td>\n",
              "      <td>NaN</td>\n",
              "      <td>NaN</td>\n",
              "      <td>NaN</td>\n",
              "      <td>NaN</td>\n",
              "      <td>NaN</td>\n",
              "      <td>tropical</td>\n",
              "      <td>ripe</td>\n",
              "      <td>NaN</td>\n",
              "      <td>NaN</td>\n",
              "      <td>NaN</td>\n",
              "      <td>NaN</td>\n",
              "      <td>NaN</td>\n",
              "      <td>NaN</td>\n",
              "    </tr>\n",
              "    <tr>\n",
              "      <th>1</th>\n",
              "      <td>Portugal</td>\n",
              "      <td>Avidagos</td>\n",
              "      <td>87</td>\n",
              "      <td>Douro</td>\n",
              "      <td>Portuguese Red</td>\n",
              "      <td>ripe  fruity,  wine that  smooth  still stru...</td>\n",
              "      <td>NaN</td>\n",
              "      <td>NaN</td>\n",
              "      <td>NaN</td>\n",
              "      <td>NaN</td>\n",
              "      <td>NaN</td>\n",
              "      <td>NaN</td>\n",
              "      <td>NaN</td>\n",
              "      <td>ea</td>\n",
              "      <td>NaN</td>\n",
              "      <td>NaN</td>\n",
              "      <td>red</td>\n",
              "      <td>ripe</td>\n",
              "      <td>NaN</td>\n",
              "      <td>NaN</td>\n",
              "      <td>NaN</td>\n",
              "      <td>NaN</td>\n",
              "      <td>NaN</td>\n",
              "      <td>NaN</td>\n",
              "    </tr>\n",
              "    <tr>\n",
              "      <th>3</th>\n",
              "      <td>US</td>\n",
              "      <td>Reserve Late Harvest</td>\n",
              "      <td>87</td>\n",
              "      <td>Michigan</td>\n",
              "      <td>Riesling</td>\n",
              "      <td>pineapple rind, lemon pith  orange blossom sta...</td>\n",
              "      <td>NaN</td>\n",
              "      <td>NaN</td>\n",
              "      <td>NaN</td>\n",
              "      <td>NaN</td>\n",
              "      <td>NaN</td>\n",
              "      <td>orange</td>\n",
              "      <td>NaN</td>\n",
              "      <td>ea</td>\n",
              "      <td>NaN</td>\n",
              "      <td>NaN</td>\n",
              "      <td>apple</td>\n",
              "      <td>tart</td>\n",
              "      <td>NaN</td>\n",
              "      <td>NaN</td>\n",
              "      <td>NaN</td>\n",
              "      <td>NaN</td>\n",
              "      <td>NaN</td>\n",
              "      <td>dry</td>\n",
              "    </tr>\n",
              "    <tr>\n",
              "      <th>4</th>\n",
              "      <td>US</td>\n",
              "      <td>Vintner's Reserve Wild Child Block</td>\n",
              "      <td>87</td>\n",
              "      <td>Oregon</td>\n",
              "      <td>Pinot Noir</td>\n",
              "      <td>,      rough  tannic,  rustic, earthy, h...</td>\n",
              "      <td>NaN</td>\n",
              "      <td>NaN</td>\n",
              "      <td>NaN</td>\n",
              "      <td>NaN</td>\n",
              "      <td>NaN</td>\n",
              "      <td>NaN</td>\n",
              "      <td>NaN</td>\n",
              "      <td>ea</td>\n",
              "      <td>NaN</td>\n",
              "      <td>NaN</td>\n",
              "      <td>NaN</td>\n",
              "      <td>NaN</td>\n",
              "      <td>herbal</td>\n",
              "      <td>NaN</td>\n",
              "      <td>NaN</td>\n",
              "      <td>NaN</td>\n",
              "      <td>NaN</td>\n",
              "      <td>NaN</td>\n",
              "    </tr>\n",
              "    <tr>\n",
              "      <th>5</th>\n",
              "      <td>Spain</td>\n",
              "      <td>Ars In Vitro</td>\n",
              "      <td>87</td>\n",
              "      <td>Northern Spain</td>\n",
              "      <td>Tempranillo-Merlot</td>\n",
              "      <td>blackberry  raspberry aromas show  typical nav...</td>\n",
              "      <td>NaN</td>\n",
              "      <td>NaN</td>\n",
              "      <td>NaN</td>\n",
              "      <td>NaN</td>\n",
              "      <td>NaN</td>\n",
              "      <td>green</td>\n",
              "      <td>NaN</td>\n",
              "      <td>va</td>\n",
              "      <td>NaN</td>\n",
              "      <td>NaN</td>\n",
              "      <td>black</td>\n",
              "      <td>NaN</td>\n",
              "      <td>herbal</td>\n",
              "      <td>NaN</td>\n",
              "      <td>NaN</td>\n",
              "      <td>NaN</td>\n",
              "      <td>NaN</td>\n",
              "      <td>NaN</td>\n",
              "    </tr>\n",
              "  </tbody>\n",
              "</table>\n",
              "</div>"
            ],
            "text/plain": [
              "    country  ... sweetness palate structure\n",
              "0     Italy  ...                        NaN\n",
              "1  Portugal  ...                        NaN\n",
              "3        US  ...                        dry\n",
              "4        US  ...                        NaN\n",
              "5     Spain  ...                        NaN\n",
              "\n",
              "[5 rows x 24 columns]"
            ]
          },
          "metadata": {
            "tags": []
          },
          "execution_count": 11
        }
      ]
    },
    {
      "cell_type": "code",
      "metadata": {
        "id": "CcwfJu_C8Puy",
        "colab_type": "code",
        "outputId": "14c3037f-e604-400b-b003-3d92b870a132",
        "colab": {
          "base_uri": "https://localhost:8080/",
          "height": 479
        }
      },
      "source": [
        "df.isna().sum()"
      ],
      "execution_count": 0,
      "outputs": [
        {
          "output_type": "execute_result",
          "data": {
            "text/plain": [
              "country                           0\n",
              "designation                       0\n",
              "points                            0\n",
              "province                          0\n",
              "variety                           0\n",
              "new                               0\n",
              "clarity sight                 91940\n",
              "brightness sight              83433\n",
              "concentration sight           84630\n",
              "sediment sight                92402\n",
              "colour sight                  83211\n",
              "hue sight                     77345\n",
              "extract sight                 91887\n",
              "clean nose                    22886\n",
              "intensity nose                87741\n",
              "age assessment nose           87741\n",
              "fruit nose                    30798\n",
              "fruit character nose          55456\n",
              "non-fruit nose                62672\n",
              "earth organic nose            88722\n",
              "earth inorganic nose          82299\n",
              "tertiary nose                 84949\n",
              "wood nose                     90608\n",
              "sweetness palate structure    69667\n",
              "dtype: int64"
            ]
          },
          "metadata": {
            "tags": []
          },
          "execution_count": 99
        }
      ]
    },
    {
      "cell_type": "code",
      "metadata": {
        "id": "8ZMC3NhFxAJQ",
        "colab_type": "code",
        "outputId": "29d6c561-8aa6-40b6-c44a-3906f69043ab",
        "colab": {
          "base_uri": "https://localhost:8080/",
          "height": 34
        }
      },
      "source": [
        "df['variety'].nunique()"
      ],
      "execution_count": 12,
      "outputs": [
        {
          "output_type": "execute_result",
          "data": {
            "text/plain": [
              "641"
            ]
          },
          "metadata": {
            "tags": []
          },
          "execution_count": 12
        }
      ]
    },
    {
      "cell_type": "code",
      "metadata": {
        "id": "_8VbfRh28SYt",
        "colab_type": "code",
        "colab": {}
      },
      "source": [
        "df = df.fillna('none')"
      ],
      "execution_count": 0,
      "outputs": []
    },
    {
      "cell_type": "code",
      "metadata": {
        "id": "n1RLSVPt8Ysx",
        "colab_type": "code",
        "outputId": "71703dca-c5f1-4df7-ad90-a8522b6ad06c",
        "colab": {
          "base_uri": "https://localhost:8080/",
          "height": 312
        }
      },
      "source": [
        "df.describe(exclude='number')"
      ],
      "execution_count": 14,
      "outputs": [
        {
          "output_type": "execute_result",
          "data": {
            "text/html": [
              "<div>\n",
              "<style scoped>\n",
              "    .dataframe tbody tr th:only-of-type {\n",
              "        vertical-align: middle;\n",
              "    }\n",
              "\n",
              "    .dataframe tbody tr th {\n",
              "        vertical-align: top;\n",
              "    }\n",
              "\n",
              "    .dataframe thead th {\n",
              "        text-align: right;\n",
              "    }\n",
              "</style>\n",
              "<table border=\"1\" class=\"dataframe\">\n",
              "  <thead>\n",
              "    <tr style=\"text-align: right;\">\n",
              "      <th></th>\n",
              "      <th>country</th>\n",
              "      <th>designation</th>\n",
              "      <th>province</th>\n",
              "      <th>variety</th>\n",
              "      <th>new</th>\n",
              "      <th>clarity sight</th>\n",
              "      <th>brightness sight</th>\n",
              "      <th>concentration sight</th>\n",
              "      <th>sediment sight</th>\n",
              "      <th>colour sight</th>\n",
              "      <th>hue sight</th>\n",
              "      <th>extract sight</th>\n",
              "      <th>clean nose</th>\n",
              "      <th>intensity nose</th>\n",
              "      <th>age assessment nose</th>\n",
              "      <th>fruit nose</th>\n",
              "      <th>fruit character nose</th>\n",
              "      <th>non-fruit nose</th>\n",
              "      <th>earth organic nose</th>\n",
              "      <th>earth inorganic nose</th>\n",
              "      <th>tertiary nose</th>\n",
              "      <th>wood nose</th>\n",
              "      <th>sweetness palate structure</th>\n",
              "    </tr>\n",
              "  </thead>\n",
              "  <tbody>\n",
              "    <tr>\n",
              "      <th>count</th>\n",
              "      <td>92454</td>\n",
              "      <td>92454</td>\n",
              "      <td>92454</td>\n",
              "      <td>92454</td>\n",
              "      <td>92454</td>\n",
              "      <td>92454</td>\n",
              "      <td>92454</td>\n",
              "      <td>92454</td>\n",
              "      <td>92454</td>\n",
              "      <td>92454</td>\n",
              "      <td>92454</td>\n",
              "      <td>92454</td>\n",
              "      <td>92454</td>\n",
              "      <td>92454</td>\n",
              "      <td>92454</td>\n",
              "      <td>92454</td>\n",
              "      <td>92454</td>\n",
              "      <td>92454</td>\n",
              "      <td>92454</td>\n",
              "      <td>92454</td>\n",
              "      <td>92454</td>\n",
              "      <td>92454</td>\n",
              "      <td>92454</td>\n",
              "    </tr>\n",
              "    <tr>\n",
              "      <th>unique</th>\n",
              "      <td>42</td>\n",
              "      <td>37954</td>\n",
              "      <td>406</td>\n",
              "      <td>641</td>\n",
              "      <td>85379</td>\n",
              "      <td>3</td>\n",
              "      <td>4</td>\n",
              "      <td>7</td>\n",
              "      <td>2</td>\n",
              "      <td>7</td>\n",
              "      <td>8</td>\n",
              "      <td>2</td>\n",
              "      <td>6</td>\n",
              "      <td>3</td>\n",
              "      <td>3</td>\n",
              "      <td>11</td>\n",
              "      <td>9</td>\n",
              "      <td>11</td>\n",
              "      <td>6</td>\n",
              "      <td>8</td>\n",
              "      <td>5</td>\n",
              "      <td>3</td>\n",
              "      <td>3</td>\n",
              "    </tr>\n",
              "    <tr>\n",
              "      <th>top</th>\n",
              "      <td>US</td>\n",
              "      <td>Reserve</td>\n",
              "      <td>California</td>\n",
              "      <td>Pinot Noir</td>\n",
              "      <td>cigar box, café au lait,  dried tobacco aromas...</td>\n",
              "      <td>none</td>\n",
              "      <td>none</td>\n",
              "      <td>none</td>\n",
              "      <td>none</td>\n",
              "      <td>none</td>\n",
              "      <td>none</td>\n",
              "      <td>none</td>\n",
              "      <td>ea</td>\n",
              "      <td>none</td>\n",
              "      <td>none</td>\n",
              "      <td>none</td>\n",
              "      <td>none</td>\n",
              "      <td>none</td>\n",
              "      <td>none</td>\n",
              "      <td>none</td>\n",
              "      <td>none</td>\n",
              "      <td>none</td>\n",
              "      <td>none</td>\n",
              "    </tr>\n",
              "    <tr>\n",
              "      <th>freq</th>\n",
              "      <td>36908</td>\n",
              "      <td>2006</td>\n",
              "      <td>24359</td>\n",
              "      <td>9890</td>\n",
              "      <td>3</td>\n",
              "      <td>91940</td>\n",
              "      <td>83433</td>\n",
              "      <td>84630</td>\n",
              "      <td>92402</td>\n",
              "      <td>83211</td>\n",
              "      <td>77345</td>\n",
              "      <td>91887</td>\n",
              "      <td>65277</td>\n",
              "      <td>87741</td>\n",
              "      <td>87741</td>\n",
              "      <td>30798</td>\n",
              "      <td>55456</td>\n",
              "      <td>62672</td>\n",
              "      <td>88722</td>\n",
              "      <td>82299</td>\n",
              "      <td>84949</td>\n",
              "      <td>90608</td>\n",
              "      <td>69667</td>\n",
              "    </tr>\n",
              "  </tbody>\n",
              "</table>\n",
              "</div>"
            ],
            "text/plain": [
              "       country designation  ... wood nose sweetness palate structure\n",
              "count    92454       92454  ...     92454                      92454\n",
              "unique      42       37954  ...         3                          3\n",
              "top         US     Reserve  ...      none                       none\n",
              "freq     36908        2006  ...     90608                      69667\n",
              "\n",
              "[4 rows x 23 columns]"
            ]
          },
          "metadata": {
            "tags": []
          },
          "execution_count": 14
        }
      ]
    },
    {
      "cell_type": "code",
      "metadata": {
        "id": "5N0pEReY8cFP",
        "colab_type": "code",
        "outputId": "fe8d4410-2869-49d7-a629-f7295cd8045b",
        "colab": {
          "base_uri": "https://localhost:8080/",
          "height": 34
        }
      },
      "source": [
        "df.shape"
      ],
      "execution_count": 15,
      "outputs": [
        {
          "output_type": "execute_result",
          "data": {
            "text/plain": [
              "(92454, 24)"
            ]
          },
          "metadata": {
            "tags": []
          },
          "execution_count": 15
        }
      ]
    },
    {
      "cell_type": "code",
      "metadata": {
        "id": "kRwXn-ee8pcG",
        "colab_type": "code",
        "outputId": "638d9047-6c8a-425c-c720-79c3c3f6dd18",
        "colab": {
          "base_uri": "https://localhost:8080/",
          "height": 34
        }
      },
      "source": [
        "df = df[df.duplicated(['variety'], keep=False)]\n",
        "df.shape"
      ],
      "execution_count": 16,
      "outputs": [
        {
          "output_type": "execute_result",
          "data": {
            "text/plain": [
              "(92320, 24)"
            ]
          },
          "metadata": {
            "tags": []
          },
          "execution_count": 16
        }
      ]
    },
    {
      "cell_type": "code",
      "metadata": {
        "id": "4QI4v0B2xJU-",
        "colab_type": "code",
        "outputId": "b22ce743-7b12-44bc-bd34-4d9fc562a64f",
        "colab": {
          "base_uri": "https://localhost:8080/",
          "height": 1000
        }
      },
      "source": [
        "df['variety'].unique()"
      ],
      "execution_count": 17,
      "outputs": [
        {
          "output_type": "execute_result",
          "data": {
            "text/plain": [
              "array(['White Blend', 'Portuguese Red', 'Riesling', 'Pinot Noir',\n",
              "       'Tempranillo-Merlot', 'Frappato', 'Gewürztraminer', 'Pinot Gris',\n",
              "       'Cabernet Sauvignon', 'Nerello Mascalese', 'Malbec',\n",
              "       'Tempranillo Blend', 'Red Blend', 'Merlot', \"Nero d'Avola\",\n",
              "       'Gamay', 'Viognier-Chardonnay', 'Primitivo', 'Inzolia',\n",
              "       'Petit Verdot', 'Monica', 'Bordeaux-style White Blend',\n",
              "       'Chardonnay', 'Grillo', 'Sangiovese', 'Cabernet Franc',\n",
              "       'Champagne Blend', 'Sauvignon Blanc', 'Bordeaux-style Red Blend',\n",
              "       'Aglianico', 'Petite Sirah', 'Touriga Nacional', 'Carmenère',\n",
              "       'Petit Manseng', 'Rosé', 'Zinfandel', 'Vernaccia', 'Meritage',\n",
              "       'Viognier', 'Vermentino', 'Grenache Blanc', 'Syrah', 'Nebbiolo',\n",
              "       'Shiraz-Cabernet Sauvignon', 'Alsace white blend', 'Chenin Blanc',\n",
              "       'Barbera', 'Rhône-style Red Blend', 'Portuguese White', 'Graciano',\n",
              "       'Tannat-Cabernet', 'Sauvignon', 'Sangiovese Grosso',\n",
              "       'Prugnolo Gentile', 'G-S-M', 'Verdejo', 'Furmint', 'Pinot Bianco',\n",
              "       'Shiraz', 'Montepulciano', 'Grenache', 'Syrah-Viognier',\n",
              "       'Grüner Veltliner', 'Carignan-Grenache', 'Savagnin',\n",
              "       'Cabernet Sauvignon-Syrah', 'Prosecco', 'Sparkling Blend',\n",
              "       'Muscat', 'Muscadelle', 'Shiraz-Viognier', 'Pinot Grigio',\n",
              "       'Tempranillo', 'Zierfandler', 'Cortese', 'Mencía', 'Zweigelt',\n",
              "       'Melon', 'Rhône-style White Blend', 'Vidal', 'Pinot Blanc',\n",
              "       'Cannonau', 'Verdelho', 'Moscato', 'Marsanne', 'Scheurebe',\n",
              "       'Kerner', 'Syrah-Grenache', 'Glera', 'Garganega', 'Viura',\n",
              "       'Dolcetto', 'Garnacha Tintorera', 'Pinot Nero', 'Roter Veltliner',\n",
              "       'Pinotage', 'Torrontés', 'Antão Vaz',\n",
              "       'Cabernet Sauvignon-Carmenère', 'Verdejo-Viura', 'Verduzzo',\n",
              "       'Verdicchio', 'Silvaner', 'Carricante', 'Sylvaner', 'Fiano',\n",
              "       'Roussanne', 'Avesso', 'Cinsault', 'Muscat Blanc à Petits Grains',\n",
              "       'Portuguese Sparkling', 'Monastrell', 'Xarel-lo', 'Greco',\n",
              "       'Trebbiano', 'Corvina, Rondinella, Molinara', 'Port', 'Insolia',\n",
              "       'Merlot-Malbec', 'Duras', 'Rosato', 'Weissburgunder', 'Roditis',\n",
              "       'Traminer', 'Tannat-Syrah', 'Marsanne-Roussanne', 'Prié Blanc',\n",
              "       'Sherry', 'Falanghina', 'Garnacha', 'Negroamaro', 'Syrah-Cabernet',\n",
              "       'Pinot Meunier', 'Blaufränkisch', 'Cabernet Sauvignon-Sangiovese',\n",
              "       'Austrian Red Blend', 'Teroldego', 'Tannat', 'Pansa Blanca',\n",
              "       'Albariño', 'Sauvignon Blanc-Semillon', 'Claret', 'Bical',\n",
              "       'Moscatel', 'Rosado', 'Viura-Chardonnay', 'Baga',\n",
              "       'Cabernet Sauvignon-Merlot', 'Malvasia Bianca',\n",
              "       'Gelber Muskateller', 'Malbec-Merlot', 'Turbiana', 'Alvarinho',\n",
              "       'Manzoni', 'Aragonês', 'Monastrell-Syrah', 'Malagousia',\n",
              "       'Assyrtiko', 'Ruché', 'Tinta de Toro', 'Rieslaner', 'Traminette',\n",
              "       'Nero di Troia', 'Lambrusco di Sorbara', 'Cesanese', 'Sémillon',\n",
              "       'Lagrein', 'Tinta Fina', 'St. Laurent', 'Syrah-Cabernet Sauvignon',\n",
              "       'Gewürztraminer-Riesling', 'Pugnitello', 'Cerceal',\n",
              "       'Touriga Nacional Blend', 'Austrian white blend',\n",
              "       'Semillon-Sauvignon Blanc', 'Tinta Roriz', 'Chardonnay-Viognier',\n",
              "       'Fernão Pires', 'Cabernet Franc-Cabernet Sauvignon',\n",
              "       'Grenache-Syrah', 'Cabernet Merlot', 'Arinto',\n",
              "       'Syrah-Petite Sirah', 'Cabernet Blend', 'Maturana', 'Pecorino',\n",
              "       'Cabernet Franc-Carmenère', 'Magliocco', 'Gamay Noir', 'Bonarda',\n",
              "       'Spätburgunder', 'Chenin Blanc-Chardonnay', 'White Port',\n",
              "       'Friulano', 'Lemberger', 'Saperavi', 'Mourvèdre', 'Blanc du Bois',\n",
              "       'Provence red blend', 'Dornfelder', 'Mondeuse', 'Colombard',\n",
              "       'Assyrtico', 'Perricone', 'Pedro Ximénez', 'Provence white blend',\n",
              "       'Syrah-Merlot', 'Albana', 'Lambrusco', 'Cabernet Sauvignon-Malbec',\n",
              "       'Malbec-Cabernet Sauvignon', 'Moschofilero', 'Fumé Blanc',\n",
              "       'Agiorgitiko', 'Encruzado', 'Carignano', 'Cabernet Franc-Merlot',\n",
              "       'Torbato', 'Garnacha Blanca', 'Pallagrello', 'Catarratto',\n",
              "       'Rotgipfler', 'Aleatico', 'Malvasia', 'Kisi', 'Ribolla Gialla',\n",
              "       'Tinto Fino', 'Vidal Blanc', 'Palomino', 'Nascetta', 'Siria',\n",
              "       'Feteascǎ Regalǎ', 'Lambrusco Grasparossa', 'Marselan',\n",
              "       'Tocai Friulano', 'Malbec-Syrah', 'Schiava', 'Alfrocheiro',\n",
              "       'Chardonnay-Semillon', 'Corvina', 'Norton', 'Alicante Bouschet',\n",
              "       'Seyval Blanc', 'Tokaji', 'Welschriesling', 'Moscadello',\n",
              "       'Tempranillo-Cabernet Sauvignon', 'Cabernet Sauvignon-Tempranillo',\n",
              "       'Cabernet-Syrah', 'Sauvignon Blanc-Chardonnay', 'Symphony',\n",
              "       'Feteasca Neagra', 'Edelzwicker', 'Madeira Blend', 'Black Muscat',\n",
              "       'Grenache Noir', 'Xinomavro', 'Merlot-Cabernet Sauvignon',\n",
              "       'Charbono', 'Passerina', 'Arneis', 'Valdiguié', 'Syrah-Mourvèdre',\n",
              "       'Loureiro', 'Petite Verdot', 'Sauvignon Gris', 'Uva di Troia',\n",
              "       'Gros and Petit Manseng', 'Jacquère', 'Kalecik Karasi',\n",
              "       'Mourvèdre-Syrah', 'Negrette', 'Clairette', 'Raboso', 'Sagrantino',\n",
              "       'Tinto del Pais', 'Mauzac', 'Carignan',\n",
              "       'Chenin Blanc-Sauvignon Blanc', 'Marzemino',\n",
              "       'Cabernet Sauvignon-Shiraz', 'Chardonnay-Sauvignon Blanc',\n",
              "       'Castelão', 'Teran', 'Muscat Canelli', 'Freisa',\n",
              "       'Merlot-Cabernet Franc', 'Neuburger', 'Auxerrois',\n",
              "       'Muskat Ottonel', 'Pinot Noir-Gamay', 'Sämling', 'Hárslevelü',\n",
              "       'Merlot-Tannat', 'Rkatsiteli', 'Grenache Blend', 'Zibibbo',\n",
              "       'Gros Manseng', 'Trincadeira', 'Portuguese Rosé', 'Brachetto',\n",
              "       'Mantonico', 'Muskateller', 'Shiraz-Grenache', 'Aligoté',\n",
              "       'Sangiovese Cabernet', 'Touriga Nacional-Cabernet Sauvignon',\n",
              "       'Muscat Blanc', 'Argaman', 'Viognier-Roussanne',\n",
              "       'Pallagrello Bianco', 'Bobal', 'Malvasia Istriana', 'Picpoul',\n",
              "       'Cabernet Sauvignon-Cabernet Franc', 'Morillon', 'Touriga Franca',\n",
              "       'Chambourcin', 'Prieto Picudo', 'Tokay', 'Sacy', 'Piedirosso',\n",
              "       'Chardonnay-Sauvignon', 'Roussanne-Viognier',\n",
              "       'Ugni Blanc-Colombard', 'Vitovska', 'Orange Muscat',\n",
              "       'Müller-Thurgau', 'Grauburgunder', 'Vignoles', 'Durella',\n",
              "       'Moscatel Roxo', 'Tannat-Merlot', 'Picolit', 'Macabeo', 'Mazuelo',\n",
              "       'Godello', 'Tinta del Pais', 'Vranec', 'Mavrud',\n",
              "       \"Cesanese d'Affile\", 'Debit', 'Cabernet', 'Chasselas',\n",
              "       \"Loin de l'Oeil\", 'Coda di Volpe', 'Malbec-Tannat',\n",
              "       'Grenache-Mourvèdre', 'Bombino Bianco', 'Pinot-Chardonnay',\n",
              "       'Syrah-Tempranillo', 'Merlot-Cabernet',\n",
              "       'Carmenère-Cabernet Sauvignon', 'Tocai', \"Muscat d'Alexandrie\",\n",
              "       'Tinta del Toro', 'Sangiovese-Cabernet Sauvignon',\n",
              "       'Viognier-Gewürztraminer', 'Sauvignon Blanc-Chenin Blanc',\n",
              "       'Trepat', 'Malbec-Petit Verdot', 'Plavac Mali', 'Rufete',\n",
              "       'Baco Noir', 'Tempranillo-Shiraz', 'Chardonnay-Pinot Blanc',\n",
              "       'Mataro', 'Carignane', 'Tinta Cao', 'Blauer Portugieser',\n",
              "       'Pinot Auxerrois', 'Ugni Blanc', 'Groppello',\n",
              "       'Semillon-Chardonnay', 'Poulsard', 'Grenache-Shiraz',\n",
              "       'Tempranillo-Garnacha', 'Carineña', 'Muscatel', 'Mavrodaphne',\n",
              "       'Cabernet Sauvignon-Merlot-Shiraz', 'Sciaccerellu', 'Posip',\n",
              "       'Veltliner', 'Alicante', 'Garnacha-Syrah', 'Rosenmuskateller',\n",
              "       'Grenache-Carignan', 'Malbec-Cabernet', 'Grecanico',\n",
              "       'Madeleine Angevine', 'Aragonez', 'Muscat Hamburg',\n",
              "       'Tempranillo Blanco', 'Refosco', 'White Riesling', 'Nuragus',\n",
              "       'Roussanne-Marsanne', 'Incrocio Manzoni', 'Narince',\n",
              "       'Lambrusco Salamino', 'Sangiovese-Syrah', 'Pignoletto',\n",
              "       'Tannat-Cabernet Franc', 'Jaen', 'Fer Servadou', 'Mission',\n",
              "       'Colombard-Sauvignon Blanc', 'Romorantin',\n",
              "       'Verdejo-Sauvignon Blanc', 'Braucol', 'Malvasia-Viura',\n",
              "       'Savatiano', 'Cabernet Franc-Malbec', 'Pallagrello Nero',\n",
              "       'Kekfrankos', 'Vespolina', 'Shiraz-Malbec', 'Greco Bianco',\n",
              "       'Susumaniello', 'Macabeo-Chardonnay', 'Tamjanika', 'Rivaner',\n",
              "       'Chinuri', 'Shiraz-Cabernet', 'Trousseau', 'Moscato Giallo',\n",
              "       'Malbec-Cabernet Franc', 'Bacchus', 'Syrah-Cabernet Franc',\n",
              "       'Cariñena-Garnacha', 'Timorasso', 'Nosiola', 'Códega do Larinho',\n",
              "       'Grechetto', 'Hondarrabi Zuri', 'Çalkarası', 'Azal',\n",
              "       'Moscatel Graúdo', 'Trebbiano Spoletino', 'Viosinho',\n",
              "       'Malvasia di Candia', 'Malvar', 'Airen', 'Johannisberg Riesling',\n",
              "       'Erbaluce', 'Muscat of Alexandria', 'Chenin Blanc-Viognier',\n",
              "       'Abouriou', 'Pinot Noir-Syrah', 'Malbec-Bonarda',\n",
              "       'Nerello Cappuccio', 'Garnacha-Monastrell', 'Okuzgozu', 'Vinhão',\n",
              "       'Souzao', 'Roter Traminer', 'Moscatel de Alejandría', 'Rolle',\n",
              "       'Counoise', 'Tinta Francisca', 'Malvasia Nera', 'Muscadine',\n",
              "       'Ciliegiolo', 'Altesse', 'Jacquez', 'Gouveio', 'Canaiolo',\n",
              "       'Carignan-Syrah', 'Bovale', 'Elbling', 'Casavecchia',\n",
              "       'Pinot Blanc-Chardonnay', 'Carmenère-Syrah',\n",
              "       'Chardonnay Weissburgunder', 'Other', 'Malagouzia', 'Malbec Blend',\n",
              "       'Merlot-Syrah', 'Bual', 'Colombard-Ugni Blanc', 'Rabigato',\n",
              "       'Babić', 'Roviello', 'Gaglioppo', 'Mandilaria',\n",
              "       'Alvarinho-Chardonnay', 'Saperavi-Merlot', 'Garnacha-Tempranillo',\n",
              "       'Trebbiano di Lugana', 'Albarossa', 'Verdeca', 'Tempranillo-Syrah',\n",
              "       'Uvalino', 'Boğazkere', 'Moscato Rosa', 'Chelois', 'Ansonica',\n",
              "       'Durif', 'Malbec-Tempranillo', 'Nasco', 'Apple', 'Malvasia Fina',\n",
              "       'Chardonnay-Albariño', 'Shiraz-Mourvèdre', 'Trollinger'],\n",
              "      dtype=object)"
            ]
          },
          "metadata": {
            "tags": []
          },
          "execution_count": 17
        }
      ]
    },
    {
      "cell_type": "code",
      "metadata": {
        "id": "12VFEJra82PF",
        "colab_type": "code",
        "outputId": "992f0732-5101-459e-c9c0-288742485641",
        "colab": {
          "base_uri": "https://localhost:8080/",
          "height": 442
        }
      },
      "source": [
        "df.isna().sum()"
      ],
      "execution_count": 18,
      "outputs": [
        {
          "output_type": "execute_result",
          "data": {
            "text/plain": [
              "country                       0\n",
              "designation                   0\n",
              "points                        0\n",
              "province                      0\n",
              "variety                       0\n",
              "new                           0\n",
              "clarity sight                 0\n",
              "brightness sight              0\n",
              "concentration sight           0\n",
              "sediment sight                0\n",
              "colour sight                  0\n",
              "hue sight                     0\n",
              "extract sight                 0\n",
              "clean nose                    0\n",
              "intensity nose                0\n",
              "age assessment nose           0\n",
              "fruit nose                    0\n",
              "fruit character nose          0\n",
              "non-fruit nose                0\n",
              "earth organic nose            0\n",
              "earth inorganic nose          0\n",
              "tertiary nose                 0\n",
              "wood nose                     0\n",
              "sweetness palate structure    0\n",
              "dtype: int64"
            ]
          },
          "metadata": {
            "tags": []
          },
          "execution_count": 18
        }
      ]
    },
    {
      "cell_type": "code",
      "metadata": {
        "id": "yWYF_vFt87Fl",
        "colab_type": "code",
        "outputId": "01292e8f-ffbd-4c9e-e173-49f8e2ceeb9e",
        "colab": {
          "base_uri": "https://localhost:8080/",
          "height": 34
        }
      },
      "source": [
        "# Number of wines lost to removing single entries\n",
        "x = 129971 - 129830\n",
        "print(x)"
      ],
      "execution_count": 19,
      "outputs": [
        {
          "output_type": "stream",
          "text": [
            "141\n"
          ],
          "name": "stdout"
        }
      ]
    },
    {
      "cell_type": "code",
      "metadata": {
        "id": "cIEY48bFzG_P",
        "colab_type": "code",
        "outputId": "7d87145d-bf8d-4f37-e20c-84af04ce94a3",
        "colab": {
          "base_uri": "https://localhost:8080/",
          "height": 34
        }
      },
      "source": [
        "df['variety'].nunique()"
      ],
      "execution_count": 20,
      "outputs": [
        {
          "output_type": "execute_result",
          "data": {
            "text/plain": [
              "507"
            ]
          },
          "metadata": {
            "tags": []
          },
          "execution_count": 20
        }
      ]
    },
    {
      "cell_type": "markdown",
      "metadata": {
        "id": "0izpj2yi9Lyh",
        "colab_type": "text"
      },
      "source": [
        "141 Wines were individualy represented here, I feel those were specialty wines of one kind and should be removed, as that description will always come up with that single wine. "
      ]
    },
    {
      "cell_type": "code",
      "metadata": {
        "id": "WVyfz4HU9KPl",
        "colab_type": "code",
        "outputId": "901ad552-4c4c-4a7c-a55d-c062bafad21a",
        "colab": {
          "base_uri": "https://localhost:8080/",
          "height": 119
        }
      },
      "source": [
        "import numpy as np\n",
        "from sklearn.model_selection import train_test_split\n",
        "\n",
        "trainval, test = train_test_split(df, train_size=0.8, test_size=0.20, \n",
        "                                  stratify=df['variety'], random_state=42)\n",
        "\n",
        "train, val = train_test_split(\n",
        "    trainval, train_size=0.80, test_size=0.02, \n",
        "    stratify=trainval['variety'], random_state=42)\n",
        "\n",
        "target = 'variety'\n",
        "\n",
        "X_train =  train.drop(columns=target)\n",
        "X_val = val.drop(columns=target)\n",
        "X_test = test.drop(columns=target)\n",
        "y_train = train[target]\n",
        "y_val = val[target]\n",
        "y_test = test[target]\n",
        "\n",
        "print('X_train shape', X_train.shape)\n",
        "print('y_train shape', y_train.shape)\n",
        "print('X_val shape', X_val.shape)\n",
        "print('y_val shape', y_val.shape)\n",
        "print('X_test shape', X_test.shape)\n",
        "print('y_test shape', y_test.shape)"
      ],
      "execution_count": 21,
      "outputs": [
        {
          "output_type": "stream",
          "text": [
            "X_train shape (59084, 23)\n",
            "y_train shape (59084,)\n",
            "X_val shape (1478, 23)\n",
            "y_val shape (1478,)\n",
            "X_test shape (18464, 23)\n",
            "y_test shape (18464,)\n"
          ],
          "name": "stdout"
        }
      ]
    },
    {
      "cell_type": "code",
      "metadata": {
        "id": "Nj0hwc_1BP9u",
        "colab_type": "code",
        "outputId": "a15b1b9f-74a8-493e-9c42-ba3369ae29a1",
        "colab": {
          "base_uri": "https://localhost:8080/",
          "height": 221
        }
      },
      "source": [
        "# This would lead you to believe that the baseline is 10.7%\n",
        "# that sure is low, but it is the low \n",
        "df['variety'].value_counts(normalize=True)"
      ],
      "execution_count": 22,
      "outputs": [
        {
          "output_type": "execute_result",
          "data": {
            "text/plain": [
              "Pinot Noir            0.107127\n",
              "Chardonnay            0.084933\n",
              "Red Blend             0.080654\n",
              "Cabernet Sauvignon    0.062825\n",
              "Riesling              0.047584\n",
              "                        ...   \n",
              "Rosenmuskateller      0.000022\n",
              "Viosinho              0.000022\n",
              "Tinta Cao             0.000022\n",
              "Freisa                0.000022\n",
              "Durif                 0.000022\n",
              "Name: variety, Length: 507, dtype: float64"
            ]
          },
          "metadata": {
            "tags": []
          },
          "execution_count": 22
        }
      ]
    },
    {
      "cell_type": "code",
      "metadata": {
        "id": "UMDyhXssB_ta",
        "colab_type": "code",
        "outputId": "5c3cbc8e-18ba-4777-ca0d-3e0892785ccc",
        "colab": {
          "base_uri": "https://localhost:8080/",
          "height": 34
        }
      },
      "source": [
        "import category_encoders as ce\n",
        "from sklearn.impute import SimpleImputer\n",
        "from sklearn.ensemble import RandomForestClassifier\n",
        "from sklearn.model_selection import train_test_split\n",
        "from sklearn.pipeline import make_pipeline\n",
        "\n",
        "pipeline = make_pipeline(\n",
        "    ce.OrdinalEncoder(), \n",
        "    SimpleImputer(strategy='median'), \n",
        "    RandomForestClassifier(n_estimators=100, min_samples_leaf=7, random_state=42, n_jobs=-1)\n",
        ")\n",
        "\n",
        "# Fit train, score val\n",
        "pipeline.fit(X_train, y_train)\n",
        "print('Validation Accuracy', pipeline.score(X_val, y_val))"
      ],
      "execution_count": 23,
      "outputs": [
        {
          "output_type": "stream",
          "text": [
            "Validation Accuracy 0.4512855209742896\n"
          ],
          "name": "stdout"
        }
      ]
    },
    {
      "cell_type": "code",
      "metadata": {
        "id": "jajEOv0BCvRI",
        "colab_type": "code",
        "outputId": "35e7058c-efd5-46f7-c23b-682b4484a366",
        "colab": {
          "base_uri": "https://localhost:8080/",
          "height": 285
        }
      },
      "source": [
        "%matplotlib inline\n",
        "import seaborn as sns\n",
        "\n",
        "sns.set()\n",
        "sns.distplot(X_train['points']);"
      ],
      "execution_count": 24,
      "outputs": [
        {
          "output_type": "display_data",
          "data": {
            "image/png": "[encoded data removed]",
            "text/plain": [
              "<Figure size 432x288 with 1 Axes>"
            ]
          },
          "metadata": {
            "tags": []
          }
        }
      ]
    },
    {
      "cell_type": "markdown",
      "metadata": {
        "id": "BZrxV9Ly1-hR",
        "colab_type": "text"
      },
      "source": [
        "Majority of the wine is in the upper 80's"
      ]
    },
    {
      "cell_type": "code",
      "metadata": {
        "id": "rGizGpf4lpz8",
        "colab_type": "code",
        "outputId": "a7d4b18b-0290-4756-b030-5baec626879c",
        "colab": {
          "base_uri": "https://localhost:8080/",
          "height": 170
        }
      },
      "source": [
        "df['points'].describe()"
      ],
      "execution_count": 25,
      "outputs": [
        {
          "output_type": "execute_result",
          "data": {
            "text/plain": [
              "count    92320.000000\n",
              "mean        88.744183\n",
              "std          3.039541\n",
              "min         80.000000\n",
              "25%         87.000000\n",
              "50%         89.000000\n",
              "75%         91.000000\n",
              "max        100.000000\n",
              "Name: points, dtype: float64"
            ]
          },
          "metadata": {
            "tags": []
          },
          "execution_count": 25
        }
      ]
    },
    {
      "cell_type": "code",
      "metadata": {
        "id": "O0KGTo4X2Krv",
        "colab_type": "code",
        "outputId": "6a0e07af-3a5f-4fff-85a0-3fcaec96c333",
        "colab": {
          "base_uri": "https://localhost:8080/",
          "height": 632
        }
      },
      "source": [
        "df_100 = df[df['points'] == 100]\n",
        "df_100.head()"
      ],
      "execution_count": 26,
      "outputs": [
        {
          "output_type": "execute_result",
          "data": {
            "text/html": [
              "<div>\n",
              "<style scoped>\n",
              "    .dataframe tbody tr th:only-of-type {\n",
              "        vertical-align: middle;\n",
              "    }\n",
              "\n",
              "    .dataframe tbody tr th {\n",
              "        vertical-align: top;\n",
              "    }\n",
              "\n",
              "    .dataframe thead th {\n",
              "        text-align: right;\n",
              "    }\n",
              "</style>\n",
              "<table border=\"1\" class=\"dataframe\">\n",
              "  <thead>\n",
              "    <tr style=\"text-align: right;\">\n",
              "      <th></th>\n",
              "      <th>country</th>\n",
              "      <th>designation</th>\n",
              "      <th>points</th>\n",
              "      <th>province</th>\n",
              "      <th>variety</th>\n",
              "      <th>new</th>\n",
              "      <th>clarity sight</th>\n",
              "      <th>brightness sight</th>\n",
              "      <th>concentration sight</th>\n",
              "      <th>sediment sight</th>\n",
              "      <th>colour sight</th>\n",
              "      <th>hue sight</th>\n",
              "      <th>extract sight</th>\n",
              "      <th>clean nose</th>\n",
              "      <th>intensity nose</th>\n",
              "      <th>age assessment nose</th>\n",
              "      <th>fruit nose</th>\n",
              "      <th>fruit character nose</th>\n",
              "      <th>non-fruit nose</th>\n",
              "      <th>earth organic nose</th>\n",
              "      <th>earth inorganic nose</th>\n",
              "      <th>tertiary nose</th>\n",
              "      <th>wood nose</th>\n",
              "      <th>sweetness palate structure</th>\n",
              "    </tr>\n",
              "  </thead>\n",
              "  <tbody>\n",
              "    <tr>\n",
              "      <th>345</th>\n",
              "      <td>Australia</td>\n",
              "      <td>Rare</td>\n",
              "      <td>100</td>\n",
              "      <td>Victoria</td>\n",
              "      <td>Muscat</td>\n",
              "      <td>wine contains some material  100 years old, b...</td>\n",
              "      <td>none</td>\n",
              "      <td>none</td>\n",
              "      <td>none</td>\n",
              "      <td>none</td>\n",
              "      <td>none</td>\n",
              "      <td>brown</td>\n",
              "      <td>none</td>\n",
              "      <td>ea</td>\n",
              "      <td>none</td>\n",
              "      <td>none</td>\n",
              "      <td>black</td>\n",
              "      <td>dried</td>\n",
              "      <td>coffee</td>\n",
              "      <td>none</td>\n",
              "      <td>none</td>\n",
              "      <td>none</td>\n",
              "      <td>none</td>\n",
              "      <td>none</td>\n",
              "    </tr>\n",
              "    <tr>\n",
              "      <th>7335</th>\n",
              "      <td>Italy</td>\n",
              "      <td>Occhio di Pernice</td>\n",
              "      <td>100</td>\n",
              "      <td>Tuscany</td>\n",
              "      <td>Prugnolo Gentile</td>\n",
              "      <td>thick  molasses  dark  caramelized brown sugar...</td>\n",
              "      <td>none</td>\n",
              "      <td>none</td>\n",
              "      <td>none</td>\n",
              "      <td>none</td>\n",
              "      <td>none</td>\n",
              "      <td>brown</td>\n",
              "      <td>none</td>\n",
              "      <td>ea</td>\n",
              "      <td>none</td>\n",
              "      <td>none</td>\n",
              "      <td>none</td>\n",
              "      <td>dried</td>\n",
              "      <td>coffee</td>\n",
              "      <td>none</td>\n",
              "      <td>none</td>\n",
              "      <td>none</td>\n",
              "      <td>none</td>\n",
              "      <td>none</td>\n",
              "    </tr>\n",
              "    <tr>\n",
              "      <th>36528</th>\n",
              "      <td>France</td>\n",
              "      <td>Brut</td>\n",
              "      <td>100</td>\n",
              "      <td>Champagne</td>\n",
              "      <td>Champagne Blend</td>\n",
              "      <td>fabulous wine   greatest champagne vintage ...</td>\n",
              "      <td>none</td>\n",
              "      <td>none</td>\n",
              "      <td>none</td>\n",
              "      <td>none</td>\n",
              "      <td>none</td>\n",
              "      <td>green</td>\n",
              "      <td>none</td>\n",
              "      <td>ea</td>\n",
              "      <td>none</td>\n",
              "      <td>none</td>\n",
              "      <td>none</td>\n",
              "      <td>none</td>\n",
              "      <td>none</td>\n",
              "      <td>none</td>\n",
              "      <td>mineral</td>\n",
              "      <td>none</td>\n",
              "      <td>none</td>\n",
              "      <td>none</td>\n",
              "    </tr>\n",
              "    <tr>\n",
              "      <th>39286</th>\n",
              "      <td>Italy</td>\n",
              "      <td>Masseto</td>\n",
              "      <td>100</td>\n",
              "      <td>Tuscany</td>\n",
              "      <td>Merlot</td>\n",
              "      <td>perfect wine   classic vintage,  2007 masseto...</td>\n",
              "      <td>none</td>\n",
              "      <td>none</td>\n",
              "      <td>none</td>\n",
              "      <td>none</td>\n",
              "      <td>none</td>\n",
              "      <td>none</td>\n",
              "      <td>none</td>\n",
              "      <td>va</td>\n",
              "      <td>none</td>\n",
              "      <td>none</td>\n",
              "      <td>black</td>\n",
              "      <td>none</td>\n",
              "      <td>chocolate</td>\n",
              "      <td>none</td>\n",
              "      <td>none</td>\n",
              "      <td>none</td>\n",
              "      <td>none</td>\n",
              "      <td>none</td>\n",
              "    </tr>\n",
              "    <tr>\n",
              "      <th>42197</th>\n",
              "      <td>Portugal</td>\n",
              "      <td>Barca-Velha</td>\n",
              "      <td>100</td>\n",
              "      <td>Douro</td>\n",
              "      <td>Portuguese Red</td>\n",
              "      <td>latest release  what has long been regarded...</td>\n",
              "      <td>none</td>\n",
              "      <td>none</td>\n",
              "      <td>none</td>\n",
              "      <td>none</td>\n",
              "      <td>none</td>\n",
              "      <td>none</td>\n",
              "      <td>none</td>\n",
              "      <td>ea</td>\n",
              "      <td>none</td>\n",
              "      <td>none</td>\n",
              "      <td>none</td>\n",
              "      <td>none</td>\n",
              "      <td>none</td>\n",
              "      <td>none</td>\n",
              "      <td>none</td>\n",
              "      <td>none</td>\n",
              "      <td>none</td>\n",
              "      <td>none</td>\n",
              "    </tr>\n",
              "  </tbody>\n",
              "</table>\n",
              "</div>"
            ],
            "text/plain": [
              "         country        designation  ...  wood nose sweetness palate structure\n",
              "345    Australia               Rare  ...       none                       none\n",
              "7335       Italy  Occhio di Pernice  ...       none                       none\n",
              "36528     France               Brut  ...       none                       none\n",
              "39286      Italy            Masseto  ...       none                       none\n",
              "42197   Portugal        Barca-Velha  ...       none                       none\n",
              "\n",
              "[5 rows x 24 columns]"
            ]
          },
          "metadata": {
            "tags": []
          },
          "execution_count": 26
        }
      ]
    },
    {
      "cell_type": "code",
      "metadata": {
        "id": "1RAY1-x72VHB",
        "colab_type": "code",
        "outputId": "c3c52a86-332b-4932-ab2b-3c026773a173",
        "colab": {
          "base_uri": "https://localhost:8080/",
          "height": 102
        }
      },
      "source": [
        "df_100['variety'].describe()"
      ],
      "execution_count": 27,
      "outputs": [
        {
          "output_type": "execute_result",
          "data": {
            "text/plain": [
              "count                  13\n",
              "unique                 11\n",
              "top       Champagne Blend\n",
              "freq                    2\n",
              "Name: variety, dtype: object"
            ]
          },
          "metadata": {
            "tags": []
          },
          "execution_count": 27
        }
      ]
    },
    {
      "cell_type": "code",
      "metadata": {
        "id": "V7Pw1d96C2xq",
        "colab_type": "code",
        "outputId": "0e249898-31d0-40d1-d72e-a3c1340ec245",
        "colab": {
          "base_uri": "https://localhost:8080/",
          "height": 34
        }
      },
      "source": [
        "import category_encoders as ce\n",
        "from sklearn.impute import SimpleImputer\n",
        "from sklearn.linear_model import LogisticRegression\n",
        "from sklearn.preprocessing import StandardScaler\n",
        "from sklearn.pipeline import make_pipeline\n",
        "from sklearn.linear_model import LinearRegression\n",
        "\n",
        "\n",
        "lr = make_pipeline(\n",
        "    ce.OrdinalEncoder(), \n",
        "    SimpleImputer(), \n",
        "    StandardScaler(),\n",
        "    LogisticRegression(solver='lbfgs', multi_class='auto', max_iter=1000)\n",
        ")\n",
        "\n",
        "lr.fit(X_train, y_train)\n",
        "score = lr.score(X_val, y_val)\n",
        "print('Logistic Regression, Validation Accuracy', score)"
      ],
      "execution_count": 29,
      "outputs": [
        {
          "output_type": "stream",
          "text": [
            "Logistic Regression, Validation Accuracy 0.18267929634641408\n"
          ],
          "name": "stdout"
        }
      ]
    },
    {
      "cell_type": "code",
      "metadata": {
        "id": "9_rwPv8s4aVD",
        "colab_type": "code",
        "colab": {}
      },
      "source": [
        "encoder = pipeline.named_steps['ordinalencoder']\n",
        "encoded = encoder.transform(X_train)"
      ],
      "execution_count": 0,
      "outputs": []
    },
    {
      "cell_type": "code",
      "metadata": {
        "id": "a_xIpty9Fgbf",
        "colab_type": "code",
        "outputId": "4eb03877-704c-4475-9288-64134b6dcaa5",
        "colab": {
          "base_uri": "https://localhost:8080/",
          "height": 610
        }
      },
      "source": [
        "%matplotlib inline\n",
        "import matplotlib.pyplot as plt\n",
        "\n",
        "# Get feature importances\n",
        "rf = pipeline.named_steps['randomforestclassifier']\n",
        "importances = pd.Series(rf.feature_importances_, encoded.columns)\n",
        "\n",
        "# Plot feature importances\n",
        "n = 20\n",
        "plt.figure(figsize=(10, n/2))\n",
        "plt.title(f'Top {n} features')\n",
        "importances.sort_values()[-n:].plot.barh(color='green');"
      ],
      "execution_count": 33,
      "outputs": [
        {
          "output_type": "display_data",
          "data": {
            "image/png": "[encoded data removed]",
            "text/plain": [
              "<Figure size 720x720 with 1 Axes>"
            ]
          },
          "metadata": {
            "tags": []
          }
        }
      ]
    },
    {
      "cell_type": "code",
      "metadata": {
        "id": "779ldLmzJ9Sd",
        "colab_type": "code",
        "colab": {}
      },
      "source": [
        "from sklearn.metrics import confusion_matrix\n",
        "# confusion_matrix(y_val, y_pred)"
      ],
      "execution_count": 0,
      "outputs": []
    },
    {
      "cell_type": "code",
      "metadata": {
        "id": "JexHLCagLLGl",
        "colab_type": "code",
        "outputId": "1ba089d2-6ca2-4015-9d53-d3630150e950",
        "colab": {
          "base_uri": "https://localhost:8080/",
          "height": 34
        }
      },
      "source": [
        "from sklearn.metrics import accuracy_score\n",
        "y_pred = pipeline.predict(X_test)\n",
        "print('Test Accuracy', accuracy_score(y_test, y_pred))"
      ],
      "execution_count": 35,
      "outputs": [
        {
          "output_type": "stream",
          "text": [
            "Test Accuracy 0.44020797227036396\n"
          ],
          "name": "stdout"
        }
      ]
    },
    {
      "cell_type": "code",
      "metadata": {
        "id": "Or4FtibqLaSx",
        "colab_type": "code",
        "outputId": "f96f0ff1-06a5-4abe-aeb1-5f49f07ab847",
        "colab": {
          "base_uri": "https://localhost:8080/",
          "height": 136
        }
      },
      "source": [
        "confusion_matrix(y_test, y_pred)"
      ],
      "execution_count": 36,
      "outputs": [
        {
          "output_type": "execute_result",
          "data": {
            "text/plain": [
              "array([[ 1,  0,  0, ...,  0,  0,  0],\n",
              "       [ 0,  1,  0, ...,  0,  0,  0],\n",
              "       [ 0,  0,  0, ...,  0,  0,  0],\n",
              "       ...,\n",
              "       [ 0,  0,  0, ...,  0,  0,  0],\n",
              "       [ 0,  0,  0, ...,  0, 23,  0],\n",
              "       [ 0,  0,  0, ...,  0,  0,  0]])"
            ]
          },
          "metadata": {
            "tags": []
          },
          "execution_count": 36
        }
      ]
    },
    {
      "cell_type": "code",
      "metadata": {
        "id": "txMlrQwHOh4_",
        "colab_type": "code",
        "outputId": "d2068a3b-ba85-498e-c147-135414cba94e",
        "colab": {
          "base_uri": "https://localhost:8080/",
          "height": 1000
        }
      },
      "source": [
        "from sklearn.utils.multiclass import unique_labels\n",
        "unique_labels(y_test)"
      ],
      "execution_count": 0,
      "outputs": [
        {
          "output_type": "execute_result",
          "data": {
            "text/plain": [
              "array(['Abouriou', 'Agiorgitiko', 'Aglianico', 'Airen', 'Albana',\n",
              "       'Albariño', 'Aleatico', 'Alfrocheiro', 'Alicante',\n",
              "       'Alicante Bouschet', 'Aligoté', 'Alsace white blend', 'Altesse',\n",
              "       'Alvarinho', 'Alvarinho-Chardonnay', 'Antão Vaz', 'Aragonez',\n",
              "       'Aragonês', 'Argaman', 'Arinto', 'Arneis', 'Asprinio', 'Assyrtico',\n",
              "       'Assyrtiko', 'Austrian Red Blend', 'Austrian white blend',\n",
              "       'Auxerrois', 'Avesso', 'Azal', 'Babić', 'Baco Noir', 'Baga',\n",
              "       'Barbera', 'Bical', 'Black Muscat', 'Blanc du Bois',\n",
              "       'Blaufränkisch', 'Bobal', 'Bonarda', 'Bordeaux-style Red Blend',\n",
              "       'Bordeaux-style White Blend', 'Bovale', 'Boğazkere', 'Brachetto',\n",
              "       'Braucol', 'Bual', 'Cabernet', 'Cabernet Blend', 'Cabernet Franc',\n",
              "       'Cabernet Franc-Cabernet Sauvignon', 'Cabernet Franc-Malbec',\n",
              "       'Cabernet Franc-Merlot', 'Cabernet Merlot', 'Cabernet Sauvignon',\n",
              "       'Cabernet Sauvignon-Cabernet Franc',\n",
              "       'Cabernet Sauvignon-Carmenère', 'Cabernet Sauvignon-Malbec',\n",
              "       'Cabernet Sauvignon-Merlot', 'Cabernet Sauvignon-Merlot-Shiraz',\n",
              "       'Cabernet Sauvignon-Sangiovese', 'Cabernet Sauvignon-Shiraz',\n",
              "       'Cabernet Sauvignon-Syrah', 'Cabernet Sauvignon-Tempranillo',\n",
              "       'Cabernet-Syrah', 'Canaiolo', 'Cannonau', 'Carignan',\n",
              "       'Carignan-Grenache', 'Carignan-Syrah', 'Carignane', 'Carignano',\n",
              "       'Carineña', 'Carmenère', 'Carmenère-Cabernet Sauvignon',\n",
              "       'Carmenère-Syrah', 'Carricante', 'Casavecchia', 'Castelão',\n",
              "       'Catarratto', 'Cerceal', \"Cesanese d'Affile\", 'Chambourcin',\n",
              "       'Champagne Blend', 'Charbono', 'Chardonnay',\n",
              "       'Chardonnay-Pinot Blanc', 'Chardonnay-Sauvignon',\n",
              "       'Chardonnay-Sauvignon Blanc', 'Chardonnay-Semillon',\n",
              "       'Chardonnay-Viognier', 'Chasselas', 'Chenin Blanc',\n",
              "       'Chenin Blanc-Chardonnay', 'Chenin Blanc-Sauvignon Blanc',\n",
              "       'Chenin Blanc-Viognier', 'Chinuri', 'Ciliegiolo', 'Cinsault',\n",
              "       'Clairette', 'Claret', 'Coda di Volpe', 'Colombard',\n",
              "       'Colombard-Sauvignon Blanc', 'Colombard-Ugni Blanc', 'Cortese',\n",
              "       'Corvina', 'Corvina, Rondinella, Molinara', 'Counoise',\n",
              "       'Códega do Larinho', 'Debit', 'Dolcetto', 'Dornfelder', 'Duras',\n",
              "       'Durella', 'Edelzwicker', 'Elbling', 'Emir', 'Encruzado',\n",
              "       'Erbaluce', 'Falanghina', 'Fer Servadou', 'Fernão Pires',\n",
              "       'Feteasca Neagra', 'Feteascǎ Regalǎ', 'Fiano', 'Frappato',\n",
              "       'Friulano', 'Fumé Blanc', 'Furmint', 'G-S-M', 'Gaglioppo', 'Gamay',\n",
              "       'Gamay Noir', 'Garganega', 'Garnacha', 'Garnacha Blanca',\n",
              "       'Garnacha Tintorera', 'Garnacha-Monastrell', 'Garnacha-Syrah',\n",
              "       'Garnacha-Tempranillo', 'Gelber Muskateller', 'Gewürztraminer',\n",
              "       'Gewürztraminer-Riesling', 'Glera', 'Godello', 'Graciano',\n",
              "       'Grauburgunder', 'Grecanico', 'Grechetto', 'Greco', 'Greco Bianco',\n",
              "       'Grenache', 'Grenache Blanc', 'Grenache Blend', 'Grenache Noir',\n",
              "       'Grenache-Carignan', 'Grenache-Mourvèdre', 'Grenache-Shiraz',\n",
              "       'Grenache-Syrah', 'Grillo', 'Grolleau', 'Gros Manseng',\n",
              "       'Gros and Petit Manseng', 'Grüner Veltliner', 'Hondarrabi Zuri',\n",
              "       'Incrocio Manzoni', 'Insolia', 'Inzolia', 'Jacquez', 'Jacquère',\n",
              "       'Jaen', 'Johannisberg Riesling', 'Kalecik Karasi', 'Kekfrankos',\n",
              "       'Kerner', 'Kisi', 'Lagrein', 'Lambrusco', 'Lambrusco Grasparossa',\n",
              "       'Lambrusco Salamino', 'Lambrusco di Sorbara', 'Lemberger',\n",
              "       'Listán Negro', \"Loin de l'Oeil\", 'Loureiro', 'Macabeo',\n",
              "       'Macabeo-Chardonnay', 'Madeira Blend', 'Magliocco', 'Malagousia',\n",
              "       'Malagouzia', 'Malbec', 'Malbec Blend', 'Malbec-Bonarda',\n",
              "       'Malbec-Cabernet', 'Malbec-Cabernet Franc',\n",
              "       'Malbec-Cabernet Sauvignon', 'Malbec-Merlot',\n",
              "       'Malbec-Petit Verdot', 'Malbec-Syrah', 'Malbec-Tannat', 'Malvasia',\n",
              "       'Malvasia Bianca', 'Malvasia Istriana', 'Malvasia Nera',\n",
              "       'Malvasia-Viura', 'Mansois', 'Mantonico', 'Manzoni', 'Marawi',\n",
              "       'Marsanne', 'Marsanne-Roussanne', 'Marselan', 'Marzemino',\n",
              "       'Mataro', 'Maturana', 'Mauzac', 'Mavrodaphne', 'Mavrud', 'Mazuelo',\n",
              "       'Melnik', 'Melon', 'Mencía', 'Meritage', 'Merlot',\n",
              "       'Merlot-Cabernet', 'Merlot-Cabernet Franc',\n",
              "       'Merlot-Cabernet Sauvignon', 'Merlot-Malbec', 'Merlot-Tannat',\n",
              "       'Mission', 'Monastrell', 'Monastrell-Syrah', 'Mondeuse', 'Monica',\n",
              "       'Montepulciano', 'Morillon', 'Moscadello', 'Moscatel',\n",
              "       'Moscatel Roxo', 'Moscatel de Alejandría', 'Moscato',\n",
              "       'Moscato Giallo', 'Moschofilero', 'Mourvèdre', 'Mourvèdre-Syrah',\n",
              "       'Mtsvane', 'Muscadelle', 'Muscat', 'Muscat Blanc',\n",
              "       'Muscat Blanc à Petits Grains', 'Muscat Canelli', 'Muscat Hamburg',\n",
              "       \"Muscat d'Alexandrie\", 'Muscat of Alexandria', 'Muscatel',\n",
              "       'Muskat', 'Muskat Ottonel', 'Muskateller', 'Müller-Thurgau',\n",
              "       'Narince', 'Nascetta', 'Nebbiolo', 'Negrette', 'Negroamaro',\n",
              "       'Nerello Cappuccio', 'Nerello Mascalese', \"Nero d'Avola\",\n",
              "       'Nero di Troia', 'Neuburger', 'Nielluciu', 'Norton', 'Nosiola',\n",
              "       'Nuragus', 'Okuzgozu', 'Orange Muscat', 'Pallagrello',\n",
              "       'Pallagrello Bianco', 'Pallagrello Nero', 'Palomino',\n",
              "       'Pansa Blanca', 'Papaskarasi', 'Passerina', 'Pecorino',\n",
              "       'Pedro Ximénez', 'Perricone', 'Petit Manseng', 'Petit Verdot',\n",
              "       'Petite Sirah', 'Petite Verdot', 'Picolit', 'Picpoul',\n",
              "       'Piedirosso', 'Pignoletto', 'Pinot Auxerrois', 'Pinot Bianco',\n",
              "       'Pinot Blanc', 'Pinot Blanc-Chardonnay', 'Pinot Grigio',\n",
              "       'Pinot Gris', 'Pinot Meunier', 'Pinot Nero', 'Pinot Noir',\n",
              "       'Pinot Noir-Gamay', 'Pinot Noir-Syrah', 'Pinot-Chardonnay',\n",
              "       'Pinotage', 'Plavac Mali', 'Port', 'Portuguese Red',\n",
              "       'Portuguese Rosé', 'Portuguese Sparkling', 'Portuguese White',\n",
              "       'Posip', 'Poulsard', 'Prieto Picudo', 'Primitivo', 'Prié Blanc',\n",
              "       'Prosecco', 'Provence red blend', 'Provence white blend',\n",
              "       'Prugnolo Gentile', 'Pugnitello', 'Raboso', 'Rebula', 'Red Blend',\n",
              "       'Refosco', 'Rhône-style Red Blend', 'Rhône-style White Blend',\n",
              "       'Ribolla Gialla', 'Rieslaner', 'Riesling', 'Rivaner', 'Rkatsiteli',\n",
              "       'Robola', 'Roditis', 'Rolle', 'Romorantin', 'Rosado', 'Rosato',\n",
              "       'Rosé', 'Roter Traminer', 'Roter Veltliner', 'Rotgipfler',\n",
              "       'Roussanne', 'Roussanne-Marsanne', 'Roussanne-Viognier', 'Ruché',\n",
              "       'Sagrantino', 'Sangiovese', 'Sangiovese Cabernet',\n",
              "       'Sangiovese Grosso', 'Sangiovese-Cabernet Sauvignon',\n",
              "       'Sangiovese-Syrah', 'Saperavi', 'Sauvignon', 'Sauvignon Blanc',\n",
              "       'Sauvignon Blanc-Chardonnay', 'Sauvignon Blanc-Chenin Blanc',\n",
              "       'Sauvignon Blanc-Semillon', 'Sauvignon Blanc-Verdejo',\n",
              "       'Sauvignon Gris', 'Savagnin', 'Savatiano', 'Scheurebe', 'Schiava',\n",
              "       'Sciaccerellu', 'Semillon-Chardonnay', 'Semillon-Sauvignon Blanc',\n",
              "       'Seyval Blanc', 'Sherry', 'Shiraz', 'Shiraz-Cabernet',\n",
              "       'Shiraz-Cabernet Sauvignon', 'Shiraz-Grenache', 'Shiraz-Malbec',\n",
              "       'Shiraz-Mourvèdre', 'Shiraz-Viognier', 'Silvaner', 'Siria',\n",
              "       'Sousão', 'Souzao', 'Sparkling Blend', 'Spätburgunder',\n",
              "       'St. Laurent', 'Susumaniello', 'Sylvaner', 'Symphony', 'Syrah',\n",
              "       'Syrah-Cabernet', 'Syrah-Cabernet Franc',\n",
              "       'Syrah-Cabernet Sauvignon', 'Syrah-Carignan', 'Syrah-Grenache',\n",
              "       'Syrah-Merlot', 'Syrah-Mourvèdre', 'Syrah-Petit Verdot',\n",
              "       'Syrah-Petite Sirah', 'Syrah-Tempranillo', 'Syrah-Viognier',\n",
              "       'Sämling', 'Sémillon', 'Tannat', 'Tannat-Cabernet',\n",
              "       'Tannat-Cabernet Franc', 'Tannat-Merlot', 'Tannat-Syrah',\n",
              "       'Tempranillo', 'Tempranillo Blanco', 'Tempranillo Blend',\n",
              "       'Tempranillo-Cabernet Sauvignon', 'Tempranillo-Garnacha',\n",
              "       'Tempranillo-Merlot', 'Tempranillo-Shiraz', 'Teran', 'Teroldego',\n",
              "       'Timorasso', 'Tinta Barroca', 'Tinta Fina', 'Tinta Francisca',\n",
              "       'Tinta Miúda', 'Tinta Roriz', 'Tinta de Toro', 'Tinta del Toro',\n",
              "       'Tinto Fino', 'Tinto del Pais', 'Tocai', 'Tocai Friulano',\n",
              "       'Tokaji', 'Tokay', 'Torrontés', 'Touriga', 'Touriga Franca',\n",
              "       'Touriga Nacional', 'Touriga Nacional Blend',\n",
              "       'Touriga Nacional-Cabernet Sauvignon', 'Traminer', 'Traminette',\n",
              "       'Trebbiano', 'Trebbiano Spoletino', 'Trebbiano di Lugana',\n",
              "       'Treixadura', 'Trepat', 'Trincadeira', 'Trousseau',\n",
              "       'Trousseau Gris', 'Turbiana', 'Ugni Blanc', 'Ugni Blanc-Colombard',\n",
              "       'Uva di Troia', 'Valdiguié', 'Veltliner', 'Verdeca', 'Verdejo',\n",
              "       'Verdejo-Sauvignon Blanc', 'Verdejo-Viura', 'Verdelho',\n",
              "       'Verdicchio', 'Verduzzo', 'Verduzzo Friulano ', 'Vermentino',\n",
              "       'Vernaccia', 'Vidal', 'Vidal Blanc', 'Vignoles', 'Vilana',\n",
              "       'Vinhão', 'Viognier', 'Viognier-Chardonnay',\n",
              "       'Viognier-Grenache Blanc', 'Viognier-Marsanne',\n",
              "       'Viognier-Roussanne', 'Viosinho', 'Vitovska', 'Viura',\n",
              "       'Viura-Chardonnay', 'Vranec', 'Weissburgunder', 'Welschriesling',\n",
              "       'White Blend', 'White Riesling', 'Xarel-lo', 'Xinomavro',\n",
              "       'Zibibbo', 'Zierfandler', 'Zierfandler-Rotgipfler', 'Zinfandel',\n",
              "       'Zweigelt'], dtype='<U35')"
            ]
          },
          "metadata": {
            "tags": []
          },
          "execution_count": 38
        }
      ]
    },
    {
      "cell_type": "code",
      "metadata": {
        "id": "Ew1a2DmsORAq",
        "colab_type": "code",
        "outputId": "13070bc9-6f34-4897-8344-e51e7e35d0b9",
        "colab": {
          "base_uri": "https://localhost:8080/",
          "height": 483
        }
      },
      "source": [
        "def plot_confusion_matrix(y_true, y_pred):\n",
        "  labels = unique_labels(y_true)\n",
        "  columns = [f'Predicted {label}' for label in labels]\n",
        "  index = [f'Actual {label}' for label in labels]\n",
        "  df = pd.DataFrame(confusion_matrix(y_true, y_pred),\n",
        "                    columns = columns,\n",
        "                    index = index)\n",
        "  return sns.heatmap(df, annot=True, fmt='d', cmap='Blues')\n",
        "\n",
        "plot_confusion_matrix(y_test, y_pred);"
      ],
      "execution_count": 0,
      "outputs": [
        {
          "output_type": "display_data",
          "data": {
            "image/png": "[encoded data removed]",
            "text/plain": [
              "<Figure size 432x288 with 2 Axes>"
            ]
          },
          "metadata": {
            "tags": []
          }
        }
      ]
    },
    {
      "cell_type": "code",
      "metadata": {
        "id": "0nUGoN6eOkiO",
        "colab_type": "code",
        "colab": {}
      },
      "source": [
        ""
      ],
      "execution_count": 0,
      "outputs": []
    }
  ]
}